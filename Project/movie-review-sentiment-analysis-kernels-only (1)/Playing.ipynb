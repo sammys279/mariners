{
 "cells": [
  {
   "cell_type": "code",
   "execution_count": 1,
   "id": "f15bebf5",
   "metadata": {},
   "outputs": [],
   "source": [
    "import pandas as pd\n",
    "import sklearn \n",
    "import seaborn as sns\n",
    "import numpy as np"
   ]
  },
  {
   "cell_type": "code",
   "execution_count": 2,
   "id": "88a8664d",
   "metadata": {},
   "outputs": [],
   "source": [
    "data = pd.read_csv('train.tsv', delimiter='\\t')\n",
    "data = data[:10000]\n"
   ]
  },
  {
   "cell_type": "code",
   "execution_count": 3,
   "id": "c4f9cfe7",
   "metadata": {},
   "outputs": [
    {
     "data": {
      "text/html": [
       "<div>\n",
       "<style scoped>\n",
       "    .dataframe tbody tr th:only-of-type {\n",
       "        vertical-align: middle;\n",
       "    }\n",
       "\n",
       "    .dataframe tbody tr th {\n",
       "        vertical-align: top;\n",
       "    }\n",
       "\n",
       "    .dataframe thead th {\n",
       "        text-align: right;\n",
       "    }\n",
       "</style>\n",
       "<table border=\"1\" class=\"dataframe\">\n",
       "  <thead>\n",
       "    <tr style=\"text-align: right;\">\n",
       "      <th></th>\n",
       "      <th>PhraseId</th>\n",
       "      <th>SentenceId</th>\n",
       "      <th>Phrase</th>\n",
       "      <th>Sentiment</th>\n",
       "    </tr>\n",
       "  </thead>\n",
       "  <tbody>\n",
       "    <tr>\n",
       "      <th>0</th>\n",
       "      <td>1</td>\n",
       "      <td>1</td>\n",
       "      <td>A series of escapades demonstrating the adage ...</td>\n",
       "      <td>1</td>\n",
       "    </tr>\n",
       "    <tr>\n",
       "      <th>1</th>\n",
       "      <td>2</td>\n",
       "      <td>1</td>\n",
       "      <td>A series of escapades demonstrating the adage ...</td>\n",
       "      <td>2</td>\n",
       "    </tr>\n",
       "    <tr>\n",
       "      <th>2</th>\n",
       "      <td>3</td>\n",
       "      <td>1</td>\n",
       "      <td>A series</td>\n",
       "      <td>2</td>\n",
       "    </tr>\n",
       "    <tr>\n",
       "      <th>3</th>\n",
       "      <td>4</td>\n",
       "      <td>1</td>\n",
       "      <td>A</td>\n",
       "      <td>2</td>\n",
       "    </tr>\n",
       "    <tr>\n",
       "      <th>4</th>\n",
       "      <td>5</td>\n",
       "      <td>1</td>\n",
       "      <td>series</td>\n",
       "      <td>2</td>\n",
       "    </tr>\n",
       "  </tbody>\n",
       "</table>\n",
       "</div>"
      ],
      "text/plain": [
       "   PhraseId  SentenceId                                             Phrase  \\\n",
       "0         1           1  A series of escapades demonstrating the adage ...   \n",
       "1         2           1  A series of escapades demonstrating the adage ...   \n",
       "2         3           1                                           A series   \n",
       "3         4           1                                                  A   \n",
       "4         5           1                                             series   \n",
       "\n",
       "   Sentiment  \n",
       "0          1  \n",
       "1          2  \n",
       "2          2  \n",
       "3          2  \n",
       "4          2  "
      ]
     },
     "execution_count": 3,
     "metadata": {},
     "output_type": "execute_result"
    }
   ],
   "source": [
    "data.head()"
   ]
  },
  {
   "cell_type": "code",
   "execution_count": 4,
   "id": "74d8b295",
   "metadata": {},
   "outputs": [
    {
     "data": {
      "text/html": [
       "<div>\n",
       "<style scoped>\n",
       "    .dataframe tbody tr th:only-of-type {\n",
       "        vertical-align: middle;\n",
       "    }\n",
       "\n",
       "    .dataframe tbody tr th {\n",
       "        vertical-align: top;\n",
       "    }\n",
       "\n",
       "    .dataframe thead th {\n",
       "        text-align: right;\n",
       "    }\n",
       "</style>\n",
       "<table border=\"1\" class=\"dataframe\">\n",
       "  <thead>\n",
       "    <tr style=\"text-align: right;\">\n",
       "      <th></th>\n",
       "      <th>PhraseId</th>\n",
       "      <th>SentenceId</th>\n",
       "      <th>Phrase</th>\n",
       "      <th>Sentiment</th>\n",
       "      <th>5</th>\n",
       "    </tr>\n",
       "  </thead>\n",
       "  <tbody>\n",
       "    <tr>\n",
       "      <th>0</th>\n",
       "      <td>1</td>\n",
       "      <td>1</td>\n",
       "      <td>A series of escapades demonstrating the adage ...</td>\n",
       "      <td>1</td>\n",
       "      <td>2</td>\n",
       "    </tr>\n",
       "    <tr>\n",
       "      <th>1</th>\n",
       "      <td>2</td>\n",
       "      <td>1</td>\n",
       "      <td>A series of escapades demonstrating the adage ...</td>\n",
       "      <td>2</td>\n",
       "      <td>2</td>\n",
       "    </tr>\n",
       "    <tr>\n",
       "      <th>2</th>\n",
       "      <td>3</td>\n",
       "      <td>1</td>\n",
       "      <td>A series</td>\n",
       "      <td>2</td>\n",
       "      <td>2</td>\n",
       "    </tr>\n",
       "    <tr>\n",
       "      <th>3</th>\n",
       "      <td>4</td>\n",
       "      <td>1</td>\n",
       "      <td>A</td>\n",
       "      <td>2</td>\n",
       "      <td>2</td>\n",
       "    </tr>\n",
       "    <tr>\n",
       "      <th>4</th>\n",
       "      <td>5</td>\n",
       "      <td>1</td>\n",
       "      <td>series</td>\n",
       "      <td>2</td>\n",
       "      <td>2</td>\n",
       "    </tr>\n",
       "  </tbody>\n",
       "</table>\n",
       "</div>"
      ],
      "text/plain": [
       "   PhraseId  SentenceId                                             Phrase  \\\n",
       "0         1           1  A series of escapades demonstrating the adage ...   \n",
       "1         2           1  A series of escapades demonstrating the adage ...   \n",
       "2         3           1                                           A series   \n",
       "3         4           1                                                  A   \n",
       "4         5           1                                             series   \n",
       "\n",
       "   Sentiment  5  \n",
       "0          1  2  \n",
       "1          2  2  \n",
       "2          2  2  \n",
       "3          2  2  \n",
       "4          2  2  "
      ]
     },
     "execution_count": 4,
     "metadata": {},
     "output_type": "execute_result"
    }
   ],
   "source": [
    "data[str(5)]=2\n",
    "data.head()"
   ]
  },
  {
   "cell_type": "code",
   "execution_count": 5,
   "id": "771a1e14",
   "metadata": {},
   "outputs": [],
   "source": [
    "word_bag = {}\n",
    "\n",
    "count = 0\n",
    "\n",
    "for i in range(len(data)):\n",
    "    for words in data.iloc[i][\"Phrase\"].split():\n",
    "        if words not in word_bag:\n",
    "            word_bag[words] = count\n",
    "            count+=1\n"
   ]
  },
  {
   "cell_type": "raw",
   "id": "ed0810a3",
   "metadata": {},
   "source": []
  },
  {
   "cell_type": "code",
   "execution_count": 6,
   "id": "8503d155",
   "metadata": {},
   "outputs": [
    {
     "name": "stdout",
     "output_type": "stream",
     "text": [
      "{'A': 0, 'series': 1, 'of': 2, 'escapades': 3, 'demonstrating': 4, 'the': 5, 'adage': 6, 'that': 7, 'what': 8, 'is': 9, 'good': 10, 'for': 11, 'goose': 12, 'also': 13, 'gander': 14, ',': 15, 'some': 16, 'which': 17, 'occasionally': 18, 'amuses': 19, 'but': 20, 'none': 21, 'amounts': 22, 'to': 23, 'much': 24, 'a': 25, 'story': 26, '.': 27, 'This': 28, 'quiet': 29, 'introspective': 30, 'and': 31, 'entertaining': 32, 'independent': 33, 'worth': 34, 'seeking': 35, 'Even': 36, 'fans': 37, 'Ismail': 38, 'Merchant': 39, \"'s\": 40, 'work': 41, 'I': 42, 'suspect': 43, 'would': 44, 'have': 45, 'hard': 46, 'time': 47, 'sitting': 48, 'through': 49, 'this': 50, 'one': 51, 'positively': 52, 'thrilling': 53, 'combination': 54, 'ethnography': 55, 'all': 56, 'intrigue': 57, 'betrayal': 58, 'deceit': 59, 'murder': 60, 'Shakespearean': 61, 'tragedy': 62, 'or': 63, 'juicy': 64, 'soap': 65, 'opera': 66, 'Aggressive': 67, 'self-glorification': 68, 'manipulative': 69, 'whitewash': 70, 'comedy-drama': 71, 'nearly': 72, 'epic': 73, 'proportions': 74, 'rooted': 75, 'in': 76, 'sincere': 77, 'performance': 78, 'by': 79, 'title': 80, 'character': 81, 'undergoing': 82, 'midlife': 83, 'crisis': 84, 'Narratively': 85, 'Trouble': 86, 'Every': 87, 'Day': 88, 'plodding': 89, 'mess': 90, 'The': 91, 'Importance': 92, 'Being': 93, 'Earnest': 94, 'so': 95, 'thick': 96, 'with': 97, 'wit': 98, 'it': 99, 'plays': 100, 'like': 101, 'reading': 102, 'from': 103, 'Bartlett': 104, 'Familiar': 105, 'Quotations': 106, 'But': 107, 'does': 108, \"n't\": 109, 'leave': 110, 'you': 111, 'You': 112, 'could': 113, 'hate': 114, 'same': 115, 'reason': 116, 'There': 117, 'little': 118, 'recommend': 119, 'Snow': 120, 'Dogs': 121, 'unless': 122, 'considers': 123, 'cliched': 124, 'dialogue': 125, 'perverse': 126, 'escapism': 127, 'source': 128, 'high': 129, 'hilarity': 130, 'Kung': 131, 'Pow': 132, 'Oedekerk': 133, 'realization': 134, 'his': 135, 'childhood': 136, 'dream': 137, 'be': 138, 'martial-arts': 139, 'flick': 140, 'proves': 141, 'sometimes': 142, 'dreams': 143, 'youth': 144, 'should': 145, 'remain': 146, 'just': 147, 'performances': 148, 'are': 149, 'an': 150, 'absolute': 151, 'joy': 152, 'Fresnadillo': 153, 'has': 154, 'something': 155, 'serious': 156, 'say': 157, 'about': 158, 'ways': 159, 'extravagant': 160, 'chance': 161, 'can': 162, 'distort': 163, 'our': 164, 'perspective': 165, 'throw': 166, 'us': 167, 'off': 168, 'path': 169, 'sense': 170, 'still': 171, 'Moonlight': 172, 'Mile': 173, 'better': 174, 'judgment': 175, 'damned': 176, 'welcome': 177, 'relief': 178, 'baseball': 179, 'movies': 180, 'try': 181, 'too': 182, 'mythic': 183, 'sweet': 184, 'modest': 185, 'ultimately': 186, 'winning': 187, 'bilingual': 188, 'charmer': 189, 'woman': 190, 'who': 191, 'inspired': 192, 'Like': 193, 'less': 194, 'dizzily': 195, 'gorgeous': 196, 'companion': 197, 'Mr.': 198, 'Wong': 199, 'In': 200, 'Mood': 201, 'Love': 202, '--': 203, 'very': 204, 'Hong': 205, 'Kong': 206, 'movie': 207, 'despite': 208, 'its': 209, 'mainland': 210, 'setting': 211, 'As': 212, 'inept': 213, 'as': 214, 'big-screen': 215, 'remakes': 216, 'Avengers': 217, 'Wild': 218, 'West': 219, 'It': 220, 'everything': 221, \"'d\": 222, 'expect': 223, 'nothing': 224, 'more': 225, 'Best': 226, 'indie': 227, 'year': 228, 'far': 229, 'Hatfield': 230, 'Hicks': 231, 'make': 232, 'oddest': 233, 'couples': 234, 'becomes': 235, 'study': 236, 'gambles': 237, 'publishing': 238, 'world': 239, 'offering': 240, 'case': 241, 'exists': 242, 'apart': 243, 'political': 244, 'ramifications': 245, 'going': 246, 'house': 247, 'party': 248, 'watching': 249, 'host': 250, 'defend': 251, 'himself': 252, 'against': 253, 'frothing': 254, 'ex-girlfriend': 255, 'That': 256, 'Chuck': 257, 'Norris': 258, '``': 259, 'grenade': 260, 'gag': 261, \"''\": 262, 'occurs': 263, '7': 264, 'times': 265, 'during': 266, 'Windtalkers': 267, 'indication': 268, 'how': 269, 'serious-minded': 270, 'film': 271, 'plot': 272, 'romantic': 273, 'comedy': 274, 'boilerplate': 275, 'start': 276, 'finish': 277, 'arrives': 278, 'impeccable': 279, 'pedigree': 280, 'mongrel': 281, 'pep': 282, 'almost': 283, 'indecipherable': 284, 'complications': 285, 'clearly': 286, 'means': 287, 'preach': 288, 'exclusively': 289, 'converted': 290, 'While': 291, 'offers': 292, 'opportunities': 293, 'occasional': 294, 'smiles': 295, 'chuckles': 296, 'give': 297, 'theater': 298, 'beyond': 299, 'Wilde': 300, 'actors': 301, \"'\": 302, 'latest': 303, 'vapid': 304, 'actor': 305, 'exercise': 306, 'appropriate': 307, 'structure': 308, 'Arthur': 309, 'Schnitzler': 310, 'Reigen': 311, 'More': 312, 'vaudeville': 313, 'show': 314, 'than': 315, 'well-constructed': 316, 'narrative': 317, 'on': 318, 'those': 319, 'terms': 320, 'inoffensive': 321, 'actually': 322, 'rather': 323, 'Nothing': 324, 'run-of-the-mill': 325, 'action': 326, 'Hampered': 327, 'no': 328, 'paralyzed': 329, 'self-indulgent': 330, 'script': 331, '...': 332, 'aims': 333, 'poetry': 334, 'ends': 335, 'up': 336, 'sounding': 337, 'satire': 338, 'Ice': 339, 'Age': 340, 'first': 341, 'computer-generated': 342, 'feature': 343, 'cartoon': 344, 'feel': 345, 'other': 346, 'makes': 347, 'glacial': 348, 'pacing': 349, 'early': 350, 'here': 351, 'makers': 352, 'serve': 353, 'cliches': 354, 'considerable': 355, 'dash': 356, 'Cattaneo': 357, 'followed': 358, 'runaway': 359, 'success': 360, 'Full': 361, 'Monty': 362, 'different': 363, 'They': 364, \"'re\": 365, 'unnamed': 366, 'easily': 367, 'substitutable': 368, 'forces': 369, 'whatever': 370, 'terror': 371, 'heroes': 372, 'horror': 373, 'avoid': 374, 'feels': 375, 'if': 376, 'interested': 377, 'itself': 378, 'amusing': 379, 'progression': 380, 'into': 381, 'rambling': 382, 'incoherence': 383, 'gives': 384, 'new': 385, 'meaning': 386, 'phrase': 387, '`': 388, 'fatal': 389, 'error': 390, 'Do': 391, 'judge': 392, 'soon': 393, '-': 394, 'dark': 395, 'gritty': 396, 'takes': 397, 'totally': 398, 'unexpected': 399, 'directions': 400, 'keeps': 401, 'So': 402, 'young': 403, 'romantics': 404, 'out': 405, 'date': 406, 'Tartakovsky': 407, 'team': 408, 'freakish': 409, 'powers': 410, 'visual': 411, 'charm': 412, 'five': 413, 'writers': 414, 'slip': 415, 'modern': 416, 'rut': 417, 'banality': 418, 'Vincent': 419, 'Gallo': 420, 'right': 421, 'at': 422, 'home': 423, 'French': 424, 'shocker': 425, 'playing': 426, 'usual': 427, 'bad': 428, 'boy': 429, 'weirdo': 430, 'role': 431, 'If': 432, 'primary': 433, 'goal': 434, 'frighten': 435, 'disturb': 436, 'then': 437, 'works': 438, 'spectacularly': 439, 'well': 440, 'shiver-inducing': 441, 'nerve-rattling': 442, 'ride': 443, '100-minute': 444, 'only': 445, '25': 446, 'minutes': 447, 'decent': 448, 'material': 449, 'Fortunately': 450, 'option': 451, 'Less': 452, 'sensational': 453, 'true-crime': 454, 'hell-jaunt': 455, 'purists': 456, 'might': 457, 'experimental': 458, 'storytelling': 459, '-LRB-': 460, 'though': 461, 'horrifying': 462, '-RRB-': 463, 'tricky': 464, 'satisfying': 465, 'any': 466, 'David': 467, 'Mamet': 468, 'airless': 469, 'cinematic': 470, 'shell': 471, 'games': 472, \"'m\": 473, 'sure': 474, 'filmmaker': 475, 'disagree': 476, 'honestly': 477, 'do': 478, 'see': 479, 'point': 480, 'Jones': 481, 'tackled': 482, 'meaty': 483, 'subject': 484, 'drawn': 485, 'engaging': 486, 'characters': 487, 'while': 488, 'peppering': 489, 'pages': 490, 'memorable': 491, 'zingers': 492, 'Bloody': 493, 'Sunday': 494, 'grace': 495, 'call': 496, 'prevention': 497, 'place': 498, 'blame': 499, 'making': 500, 'best': 501, 'war': 502, 'ever': 503, 'made': 504, 'Takes': 505, 'clunky': 506, 'TV-movie': 507, 'approach': 508, 'detailing': 509, 'chapter': 510, 'life': 511, 'celebrated': 512, 'Irish': 513, 'playwright': 514, 'poet': 515, 'drinker': 516, 'Finally': 517, 'coming': 518, 'down': 519, 'Miramax': 520, 'deep': 521, 'shelves': 522, 'after': 523, 'couple': 524, 'aborted': 525, 'attempts': 526, 'Waking': 527, 'Up': 528, 'Reno': 529, 'strong': 530, 'letting': 531, 'sleeping': 532, 'dogs': 533, 'lie': 534, 'Thanks': 535, 'largely': 536, 'Williams': 537, 'interesting': 538, 'developments': 539, 'processed': 540, '60': 541, 'rest': 542, 'overexposed': 543, 'waste': 544, 'Comes': 545, 'across': 546, 'relic': 547, 'bygone': 548, 'era': 549, 'convolutions': 550, 'silly': 551, 'plausible': 552, 'Perhaps': 553, 'cliche': 554, 'refreshing': 555, 'Both': 556, 'lead': 557, 'Oscar-size': 558, 'Run': 559, 'your': 560, 'lives': 561, '!': 562, 'Mark': 563, 'Pellington': 564, 'pop': 565, 'thriller': 566, 'kooky': 567, 'overeager': 568, 'spooky': 569, 'subtly': 570, 'love': 571, 'myth': 572, 'Claude': 573, 'Chabrol': 574, 'camera': 575, 'way': 576, 'gently': 577, 'swaying': 578, 'back': 579, 'forth': 580, 'cradles': 581, 'veiling': 582, 'tension': 583, 'beneath': 584, 'otherwise': 585, 'tender': 586, 'movements': 587, 'Transforms': 588, 'Shakespeare': 589, 'deepest': 590, 'tragedies': 591, 'smart': 592, 'screenplay': 593, 'James': 594, 'Eric': 595, 'Horton': 596, 'director': 597, 'Peter': 598, \"O'Fallon\": 599, 'pat': 600, 'teeth': 601, 'hurt': 602, 'arriving': 603, 'particularly': 604, 'moment': 605, 'history': 606, 'flickering': 607, 'reminders': 608, 'ties': 609, 'bind': 610, 'Its': 611, 'generic': 612, 'villains': 613, 'lack': 614, 'their': 615, 'funny': 616, 'accents': 617, 'scenes': 618, 'poorly': 619, 'delivered': 620, 'deeply': 621, 'thought': 622, 'most': 623, 'right-thinking': 624, 'films': 625, 'gratuitous': 626, 'distractions': 627, 'impressed': 628, 'upon': 629, 'fun': 630, 'Downright': 631, 'transparent': 632, 'endless': 633, 'assault': 634, 'embarrassingly': 635, 'ham-fisted': 636, 'sex': 637, 'jokes': 638, 'reek': 639, 'rewrite': 640, 'designed': 641, 'garner': 642, 'cooler': 643, 'PG-13': 644, 'rating': 645, 'provocative': 646, 'drama': 647, 'impossible': 648, ':': 649, 'gets': 650, 'under': 651, 'skin': 652, 'man': 653, 'we': 654, 'know': 655, 'evil': 656, 'monstrous': 657, 'lunatic': 658, 'drive-by': 659, 'many': 660, 'things': 661, 'stoner': 662, 'midnight': 663, 'sci-fi': 664, 'deconstruction': 665, 'gay': 666, 'fantasia': 667, 'above': 668, 'sanguine': 669, 'two': 670, 'skittish': 671, 'New': 672, 'York': 673, 'middle-agers': 674, 'stumble': 675, 'relationship': 676, 'struggle': 677, 'furiously': 678, 'fears': 679, 'foibles': 680, 'ambition': 681, 'subjects': 682, 'not': 683, 'willingness': 684, 'Scherfig': 685, 'will': 686, 'wondering': 687, 'clever': 688, 'credits': 689, 'roll': 690, 'An': 691, 'absorbing': 692, 'documentary': 693, 'Reeks': 694, 'rot': 695, 'hack': 696, 'Plays': 697, 'vignettes': 698, 'clips': 699, 'looking': 700, 'common': 701, 'through-line': 702, 'Contrived': 703, 'pastiche': 704, 'caper': 705, 'major': 706, 'problem': 707, 'bulk': 708, 'centers': 709, 'wrong': 710, 'Swimfan': 711, 'Fatal': 712, 'Attraction': 713, 'eventually': 714, 'goes': 715, 'overboard': 716, 'loony': 717, 'melodramatic': 718, 'denouement': 719, 'school': 720, 'swimming': 721, 'pool': 722, 'substitutes': 723, 'bathtub': 724, 'heartfelt': 725, 'involving': 726, 'unsettling': 727, 'experience': 728, 'predecessors': 729, 'proud': 730, 'All': 731, 'pretty': 732, 'execution': 733, 'lot': 734, 'richer': 735, 'ones': 736, 'Hollywood': 737, 'screenwriters': 738, 'usually': 739, 'come': 740, 'own': 741, 'Phillip': 742, 'Noyce': 743, 'cinematographer': 744, 'Christopher': 745, 'Doyle': 746, 'understand': 747, 'delicate': 748, 'forcefulness': 749, 'Greene': 750, 'prose': 751, 'there': 752, 'screen': 753, 'version': 754, 'Quiet': 755, 'American': 756, 'Pianist': 757, 'lacks': 758, 'quick': 759, 'emotional': 760, 'connections': 761, 'Steven': 762, 'Spielberg': 763, 'Schindler': 764, 'List': 765, 'Inventive': 766, 'intoxicatingly': 767, 'sexy': 768, 'violent': 769, 'maddening': 770, 'Tells': 771, 'fascinating': 772, 'compelling': 773, 'Written': 774, 'flatly': 775, 'Kendall': 776, 'directed': 777, 'barely': 778, 'Something': 779, 'About': 780, 'Mary': 781, 'co-writer': 782, 'Ed': 783, 'Decter': 784, 'Highly': 785, 'recommended': 786, 'viewing': 787, 'courage': 788, 'ideas': 789, 'technical': 790, 'proficiency': 791, 'great': 792, 'acting': 793, 'IMAX': 794, 'short': 795, 'wonderful': 796, 'big': 797, 'shows': 798, 'slice': 799, 'yet': 800, 'instantly': 801, 'recognizable': 802, 'Amid': 803, 'shock': 804, 'curiosity': 805, 'factors': 806, 'corny': 807, 'examination': 808, 'actress': 809, 'trying': 810, 'find': 811, 'her': 812, 'lazy': 813, 'solving': 814, 'distract': 815, 'solution': 816, 'another': 817, 'comprehensible': 818, 'Dummies': 819, 'guide': 820, 'even': 821, 'non-techies': 822, 'enjoy': 823, 'Entertains': 824, 'because': 825, 'music': 826, 'comic': 827, 'antics': 828, 'pleasure': 829, 'Disney': 830, 'scrape': 831, 'bottom': 832, 'cracker': 833, 'barrel': 834, 'Writer\\\\/director': 835, 'Burr': 836, 'Steers': 837, 'emphasizes': 838, 'Q': 839, 'Quirky': 840, 'mixed': 841, 'results': 842, 'Scarcely': 843, 'mention': 844, 'reporting': 845, 'number': 846, 'tumbleweeds': 847, 'blowing': 848, 'empty': 849, 'theatres': 850, 'graced': 851, 'company': 852, 'Invigorating': 853, 'surreal': 854, 'resonant': 855, 'rainbow': 856, 'emotion': 857, 'Analyze': 858, 'crass': 859, 'contrived': 860, 'sequels': 861, 'fails': 862, 'second-guess': 863, 'affection': 864, 'original': 865, 'Report': 866, 'card': 867, 'Does': 868, 'live': 869, 'exalted': 870, 'tagline': 871, 'definite': 872, 'room': 873, 'improvement': 874, 'neither': 875, 'monsterous': 876, 'Tsai': 877, 'may': 878, 'ploughing': 879, 'furrow': 880, 'once': 881, 'often': 882, 'Green': 883, 'equivalent': 884, 'Saddam': 885, 'Hussein': 886, 'ready': 887, 'go': 888, 'U.N.': 889, 'ask': 890, 'permission': 891, 'preemptive': 892, 'strike': 893, 'surprisingly': 894, 'solid': 895, 'achievement': 896, 'Malcolm': 897, 'D.': 898, 'Lee': 899, 'writer': 900, 'John': 901, 'Ridley': 902, 'Massoud': 903, 'record': 904, 'tenacious': 905, 'humane': 906, 'fighter': 907, 'was': 908, 'prisoner': 909, 'victim': 910, 'Changing': 911, 'Lanes': 912, 'tries': 913, 'Shyamalan': 914, 'stop': 915, 'please': 916, 'mom': 917, 'macabre': 918, 'stylized': 919, 'Swedish': 920, 'fillm': 921, 'city': 922, 'where': 923, 'religious': 924, 'civic': 925, 'virtues': 926, 'hold': 927, 'society': 928, 'tatters': 929, 'One': 930, 'recent': 931, 'memory': 932, 'thoughtful': 933, 'art': 934, 'ethics': 935, 'cost': 936, 'moral': 937, 'compromise': 938, 'consistently': 939, 'unimaginative': 940, 'probably': 941, 'saved': 942, 'aid': 943, 'wisecracking': 944, 'Mystery': 945, 'Science': 946, 'Theater': 947, '3000': 948, 'guys': 949, 'Filmmaker': 950, 'Tian': 951, 'Zhuangzhuang': 952, 'triumphantly': 953, 'returns': 954, 'filmmaking': 955, 'visually': 956, 'masterful': 957, 'power': 958, 'mawkish': 959, 'self-parody': 960, 'weird': 961, 'Masterpiece': 962, 'sketch': 963, 'view': 964, 'nor': 965, 'being': 966, 'believe': 967, 'puts': 968, 'them': 969, 'battle': 970, 'wills': 971, 'care': 972, 'And': 973, 'appreciate': 974, 'one-sided': 975, 'theme': 976, 'Lawrence': 977, 'over-indulgent': 978, 'tirade': 979, 'knock': 980, 'yourself': 981, 'postcard': 982, 'self-glorified': 983, 'Martin': 984, 'lovefest': 985, 'whole': 986, 'sneaky': 987, 'dupe': 988, 'viewer': 989, 'taking': 990, 'Very': 991, 'Important': 992, 'simply': 993, 'ugly': 994, 'look': 995, 'product': 996, 'Whenever': 997, 'threatens': 998, 'get': 999, 'bogged': 1000, 'earnest': 1001, 'dramaturgy': 1002, 'stirring': 1003, 'sequence': 1004, 'surge': 1005, 'swirling': 1006, 'rapids': 1007, 'leap': 1008, 'pinnacle': 1009, 'rouses': 1010, 'Swinging': 1011, 'seem': 1012, 'hobby': 1013, 'attracts': 1014, 'fit': 1015, 'when': 1016, 'entirely': 1017, 'unprepared': 1018, 'Devos': 1019, 'delivers': 1020, 'perfect': 1021, 'captures': 1022, 'innocence': 1023, 'budding': 1024, 'demons': 1025, 'within': 1026, 'wallflower': 1027, '300': 1028, 'years': 1029, 'Russian': 1030, 'culture': 1031, 'compressed': 1032, 'evanescent': 1033, 'seamless': 1034, 'sumptuous': 1035, 'stream': 1036, 'consciousness': 1037, 'filmmakers': 1038, 'want': 1039, 'else': 1040, 'cheap': 1041, 'B': 1042, 'they': 1043, 'succeed': 1044, 'Polanski': 1045, 'element': 1046, 'alone': 1047, 'abandoned': 1048, 'consoled': 1049, 'he': 1050, 'revealed': 1051, 'before': 1052, 'spiritual': 1053, 'survival': 1054, 'Spider-man': 1055, 'summer': 1056, 'blockbuster': 1057, 'had': 1058, 'endure': 1059, 'last': 1060, 'hopefully': 1061, 'sets': 1062, 'tone': 1063, 'stuff': 1064, 'Absorbing': 1065, 'Turpin': 1066, 'Violent': 1067, 'vulgar': 1068, 'forgettably': 1069, 'images': 1070, 'war-ravaged': 1071, 'land': 1072, 'prove': 1073, 'potent': 1074, 'riveting': 1075, 'unlikely': 1076, 'Sarah': 1077, 'Harrison': 1078, 'Winds': 1079, 'both': 1080, 'revelatory': 1081, 'narcissistic': 1082, 'achieving': 1083, 'honest': 1084, 'insight': 1085, 'relationships': 1086, 'high-concept': 1087, 'candy-coat': 1088, 'storylines': 1089, 'precious': 1090, 'circumstances': 1091, 'beautiful': 1092, 'stars': 1093, 'Mostly': 1094, 'Martha': 1095, 'mostly': 1096, 'unsurprising': 1097, 'delectable': 1098, 'diversion': 1099, 'affecting': 1100, 'portrait': 1101, 'screwed-up': 1102, 'dared': 1103, 'powerful': 1104, 'people': 1105, 'seen': 1106, 'eyes': 1107, 'idealistic': 1108, 'kid': 1109, 'chooses': 1110, 'champion': 1111, 'losing': 1112, 'cause': 1113, 'Keenly': 1114, 'observed': 1115, 'refreshingly': 1116, 'natural': 1117, 'Swimming': 1118, 'details': 1119, 'promenade': 1120, 'clad': 1121, 'bodies': 1122, 'Myrtle': 1123, 'Beach': 1124, 'S.C.': 1125, 'adrenaline': 1126, 'jolt': 1127, 'sudden': 1128, 'lunch': 1129, 'rush': 1130, 'diner': 1131, 'brilliant': 1132, 'expense': 1133, 'paid': 1134, 'pay': 1135, 'triumph': 1136, 'hews': 1137, 'carries': 1138, 'effortlessly': 1139, 'darkness': 1140, 'light': 1141, 'Just': 1142, 'everyone': 1143, 'involved': 1144, 'seems': 1145, 'coasting': 1146, 'hooked': 1147, 'delicious': 1148, 'pulpiness': 1149, 'lurid': 1150, 'fiction': 1151, 'kind': 1152, 'production': 1153, 'been': 1154, 'funnier': 1155, 'released': 1156, 'outtakes': 1157, 'theatrically': 1158, 'used': 1159, 'bonus': 1160, 'DVD': 1161, 'Tolstoy': 1162, 'groupies': 1163, '?': 1164, 'Daughter': 1165, 'From': 1166, 'Danang': 1167, 'reveals': 1168, 'efforts': 1169, 'toward': 1170, 'closure': 1171, 'open': 1172, 'wounds': 1173, 'weirdly': 1174, 'unpredictable': 1175, 'pieces': 1176, 'Intriguing': 1177, 'downright': 1178, 'intoxicating': 1179, 'Although': 1180, 'fairly': 1181, 'end': 1182, 'having': 1183, 'fresh': 1184, 'growing': 1185, 'Catholic': 1186, 'really': 1187, 'anything': 1188, 'comprehension': 1189, 'were': 1190, 'Sleek': 1191, 'arty': 1192, 'Poor': 1193, 'editing': 1194, 'bluescreen': 1195, 'ultra-cheesy': 1196, 'highlight': 1197, 'radical': 1198, 'Cho': 1199, 'face': 1200, 'amazing': 1201, 'slapstick': 1202, 'instrument': 1203, 'creating': 1204, 'scrapbook': 1205, 'living': 1206, 'mug': 1207, 'shots': 1208, 'frame': 1209, 'completely': 1210, 'misses': 1211, 'emotions': 1212, 'Initial': 1213, 'strangeness': 1214, 'inexorably': 1215, 'rote': 1216, 'sentimentality': 1217, 'mystical': 1218, 'tenderness': 1219, 'expedience': 1220, 'lets': 1221, 'brush': 1222, 'humanity': 1223, 'psycho': 1224, 'without': 1225, 'him': 1226, 'Hartley': 1227, 'created': 1228, 'monster': 1229, 'did': 1230, 'handle': 1231, 'When': 1232, 'cowering': 1233, 'begging': 1234, 'feet': 1235, 'scruffy': 1236, 'Giannini': 1237, 'Madonna': 1238, 'since': 1239, 'Abel': 1240, 'Ferrara': 1241, 'beaten': 1242, 'pulp': 1243, 'Dangerous': 1244, 'Game': 1245, 'Too': 1246, 'clumsy': 1247, 'key': 1248, 'moments': 1249, 'splash': 1250, 'Because': 1251, 'Eight': 1252, 'Legged': 1253, 'Freaks': 1254, 'partly': 1255, 'homage': 1256, 'Them': 1257, 'Tarantula': 1258, 'low': 1259, 'budget': 1260, 'B-movie': 1261, 'thrillers': 1262, '1950s': 1263, \"'60s\": 1264, 'sophomoric': 1265, 'romp': 1266, 'hellish': 1267, 'conditions': 1268, 'Errol': 1269, 'Morris': 1270, 'focusing': 1271, 'eccentricity': 1272, 'failing': 1273, 'bigger': 1274, 'oddballs': 1275, 'near-future': 1276, 'America': 1277, 'scientific': 1278, 'law': 1279, 'discerned': 1280, 'producers': 1281, 'heed': 1282, 'Mediocre': 1283, 'drag': 1284, 'speeds': 1285, ';': 1286, 'explosions': 1287, 'fall': 1288, 'He': 1289, 'few': 1290, 'cool': 1291, 'never': 1292, 'aware': 1293, 'coolness': 1294, 'Feels': 1295, 'artist': 1296, 'tired': 1297, 'fighting': 1298, 'fights': 1299, 'putting': 1300, 'weight': 1301, 'shoulders': 1302, 'form': 1303, 'stale': 1304, 'uninspired': 1305, 'cut': 1306, 'song': 1307, 'fully': 1308, 'example': 1309, 'lush': 1310, 'all-enveloping': 1311, 'rhapsodizes': 1312, 'Has': 1313, 'rare': 1314, 'capability': 1315, 'soothe': 1316, 'break': 1317, 'heart': 1318, 'single': 1319, 'stroke': 1320, 'Eerily': 1321, 'accurate': 1322, 'depiction': 1323, 'depression': 1324, 'feature-length': 1325, 'wears': 1326, 'tryingly': 1327, 'uncluttered': 1328, 'gem': 1329, 'relays': 1330, 'universal': 1331, 'points': 1332, 'lectures': 1333, 'confrontations': 1334, 'force': 1335, 'scratch': 1336, 'hole': 1337, 'head': 1338, 'post-camp': 1339, 'old-time': 1340, 'good-bad': 1341, 'perfectly': 1342, 'creature-feature': 1343, 'fan': 1344, 'knows': 1345, 'cross': 1346, 'toxic': 1347, 'chemicals': 1348, 'bunch': 1349, 'exotic': 1350, 'creatures': 1351, 'running': 1352, 'around': 1353, 'screaming': 1354, 'death': 1355, 'bet': 1356, 'convoluted': 1357, 'journey': 1358, 'Before': 1359, 'turn': 1360, 'devolves': 1361, 'bizarre': 1362, 'sort': 1363, 'Shainberg': 1364, 'adaptation': 1365, 'Gaitskill': 1366, 'harrowing': 1367, 'brilliantly': 1368, 'played': 1369, 'Kim': 1370, 'Ki-Deok': 1371, 'mind': 1372, 'emotionally': 1373, 'least': 1374, 'adolescent': 1375, 'audience': 1376, 'demanding': 1377, 'regular': 1378, 'shocks': 1379, 'bouts': 1380, 'defensible': 1381, 'sexual': 1382, 'violence': 1383, 'keep': 1384, 'exist': 1385, 'employ': 1386, 'kids': 1387, 'owe': 1388, 'favors': 1389, 'famous': 1390, 'parents': 1391, 'well-made': 1392, 'scattered': 1393, 'whose': 1394, 'hero': 1395, 'dog': 1396, 'Those': 1397, 'Cinema': 1398, 'Paradiso': 1399, 'improved': 1400, 'Campanella': 1401, 'middle': 1402, 'sad': 1403, 'hopeful': 1404, 'amiable': 1405, 'unfocused': 1406, 'bagatelle': 1407, 'loosely-connected': 1408, 'string': 1409, 'acting-workshop': 1410, 'exercises': 1411, 'sharp': 1412, 'dull': 1413, 'Wallace': 1414, 'bit': 1415, 'heavy': 1416, 'handed': 1417, 'message': 1418, 'flair': 1419, 'waxes': 1420, 'poetic': 1421, 'taste': 1422, 'Charming': 1423, 'thing': 1424, 'Imax': 1425, 'chimps': 1426, 'lots': 1427, 'blown': 1428, 'size': 1429, 'Starts': 1430, 'mediocre': 1431, 'spirals': 1432, 'downward': 1433, 'thuds': 1434, 'utterly': 1435, 'incompetent': 1436, 'conclusion': 1437, 'children': 1438, 'truest': 1439, 'Horrendously': 1440, 'amateurish': 1441, 'plainly': 1442, 'incomprehensible': 1443, 'Beautifully': 1444, 'crafted': 1445, 'attract': 1446, 'upscale': 1447, 'audiences': 1448, 'hungry': 1449, 'quality': 1450, 'nostalgic': 1451, 'twisty': 1452, 'yarn': 1453, 'guessing': 1454, 'awkwardly': 1455, 'magic': 1456, 'realism': 1457, 'punch': 1458, 'lines': 1459, 'miss': 1460, 'unfortunately': 1461, 'outnumber': 1462, 'hits': 1463, 'three-to-one': 1464, 'Smoke': 1465, 'Signals': 1466, 'imbued': 1467, 'themes': 1468, 'familial': 1469, 'spirituality': 1470, 'moving': 1471, 'stooping': 1472, 'base': 1473, 'melodrama': 1474, 'Evokes': 1475, 'style': 1476, 'flash': 1477, 'double-cross': 1478, 'House': 1479, 'Games': 1480, 'Heist': 1481, 'uplifting': 1482, 'At': 1483, 'brief': 1484, '42': 1485, 'need': 1486, 'X': 1487, 'blab': 1488, 'Spalding': 1489, 'Gray': 1490, 'teen': 1491, 'gross-out': 1492, 'deal': 1493, 'preposterous': 1494, 'Uneven': 1495, 'result': 1496, 'Vulgar': 1497, 'rehashes': 1498, 'several': 1499, 'old': 1500, 'capped': 1501, 'pointless': 1502, 'extremes': 1503, 'insanely': 1504, 'graphic': 1505, 'dragons': 1506, 'real': 1507, 'Reign': 1508, 'Fire': 1509, 'wo': 1510, 'disappointed': 1511, 'dramatic': 1512, 'happen': 1513, 'Manages': 1514, 'intended': 1515, 'placing': 1516, 'coma-like': 1517, 'state': 1518, 'generates': 1519, 'degree': 1520, 'randomness': 1521, 'achieved': 1522, 'lottery': 1523, 'drawing': 1524, 'Though': 1525, 'veers': 1526, 'course': 1527, 'unintentional': 1528, 'parallels': 1529, 'inadvertently': 1530, 'evoke': 1531, 'memories': 1532, 'humorous': 1533, 'depress': 1534, 'saw': 1535, 'TV': 1536, 'convinced': 1537, 'already': 1538, 'impression': 1539, 'territory': 1540, 'humor': 1541, 'lose': 1542, 'smug': 1543, 'self-satisfaction': 1544, 'associated': 1545, 'private': 1546, 'schools': 1547, 'superior': 1548, 'heavy-handed': 1549, 'navigates': 1550, 'fast': 1551, 'fade': 1552, 'pomposity': 1553, 'pretentiousness': 1554, 'weak': 1555, 'together': 1556, 'told': 1557, 'latently': 1558, 'liking': 1559, 'read': 1560, 'hardly': 1561, 'enough': 1562, 'sophisticated': 1563, 'literate': 1564, 'such': 1565, 'pictures': 1566, 'catch': 1567, 'Storytelling': 1568, 'slight': 1569, 'Monte': 1570, 'Cristo': 1571, 'smartly': 1572, 'well-wrought': 1573, 'omits': 1574, 'needless': 1575, 'chase': 1576, 'swordfights': 1577, 'revenge': 1578, 'unfolds': 1579, 'fairy': 1580, 'tale': 1581, 'comes': 1582, 'renowned': 1583, 'Indian': 1584, 'allows': 1585, 'Americans': 1586, 'finally': 1587, 'revel': 1588, 'splendor': 1589, 'Well-done': 1590, 'supernatural': 1591, 'keen': 1592, 'insights': 1593, 'parapsychological': 1594, 'phenomena': 1595, 'soulful': 1596, 'nuances': 1597, 'grieving': 1598, 'process': 1599, 'Bond': 1600, 'save': 1601, 'eccentric': 1602, 'super-wealthy': 1603, 'megalomaniac': 1604, 'bent': 1605, 'domination': 1606, 'destruction': 1607, 'depressing': 1608, 'ruthlessly': 1609, 'pained': 1610, 'depraved': 1611, 'staring': 1612, 'wound': 1613, 'Damon': 1614, 'brings': 1615, 'proper': 1616, 'conviction': 1617, 'Jason': 1618, 'Bourne': 1619, 'Parents': 1620, 'beware': 1621, 'penance': 1622, 'rich': 1623, 'luscious': 1624, 'cares': 1625, 'singularly': 1626, 'off-putting': 1627, 'Director': 1628, 'Boris': 1629, 'von': 1630, 'Sychowski': 1631, 'instead': 1632, 'opts': 1633, 'routine': 1634, 'slasher': 1635, 'sit': 1636, 'Would': 1637, \"'ve\": 1638, 'nice': 1639, 'trusted': 1640, 'complex': 1641, 'left': 1642, 'predictable': 1643, 'superfluous': 1644, 'sequel': 1645, 'plagued': 1646, 'familiar': 1647, 'feeling': 1648, 'let': 1649, 'over': 1650, 'Everyone': 1651, 'shown': 1652, 'appointed': 1653, 'visible': 1654, 'enthusiasm': 1655, 'mighty': 1656, 'roughshod': 1657, 'document': 1658, 'serves': 1659, 'workable': 1660, 'primer': 1661, 'region': 1662, 'terrific': 1663, '10th-grade': 1664, 'learning': 1665, 'tool': 1666, 'Cloaks': 1667, 'anti-feminist': 1668, 'equation': 1669, 'career': 1670, '=': 1671, 'misery': 1672, 'tiresome': 1673, 'romantic-comedy': 1674, 'duds': 1675, \"'n\": 1676, 'safe': 1677, 'play': 1678, 'milquetoast': 1679, 'week': 1680, 'His': 1681, 'transcends': 1682, 'boy-meets-girl': 1683, 'posturing': 1684, 'typical': 1685, 'stories': 1686, 'cliche-ridden': 1687, 'endeavor': 1688, 'predecessor': 1689, 'blend': 1690, 'overripe': 1691, 'episode': 1692, 'Dawson': 1693, 'Creek': 1694, 'recycled': 1695, 'dumbed-down': 1696, 'Story': 1697, 'covers': 1698, 'huge': 1699, 'topics': 1700, 'bland': 1701, 'surfacey': 1702, 'offer': 1703, 'why': 1704, 'instance': 1705, 'improve': 1706, 'blank': 1707, 'threw': 1708, 'loads': 1709, 'money': 1710, 'idea': 1711, 'teenage': 1712, 'boys': 1713, 'wrestling': 1714, 'difficult': 1715, 'imagine': 1716, 'confused': 1717, 'sloppily': 1718, 'possibly': 1719, 'road': 1720, '2002': 1721, 'well-intentioned': 1722, 'rent': 1723, 'parable': 1724, 'Jolting': 1725, 'Charleston': 1726, 'rhythms': 1727, 'sizzle': 1728, 'news': 1729, 'found': 1730, 'vent': 1731, 'Or': 1732, 'Sy': 1733, 'open-faced': 1734, 'smiling': 1735, 'madmen': 1736, 'killer': 1737, 'Insomnia': 1738, 'Phoned-in': 1739, 'business': 1740, 'With': 1741, 'lackadaisical': 1742, 'plotting': 1743, 'mindless': 1744, 'Benjamins': 1745, 'evokes': 1746, 'tier': 1747, 'blaxploitation': 1748, 'flicks': 1749, '1970s': 1750, 'Ah': 1751, 'yes': 1752, 'me': 1753, 'urge': 1754, 'doze': 1755, 'Thoughtless': 1756, 'random': 1757, 'superficial': 1758, 'humour': 1759, 'Scouse': 1760, 'values': 1761, 'standard': 1762, 'procedure': 1763, 'Narc': 1764, 'strikes': 1765, 'defiantly': 1766, 'retro': 1767, 'chord': 1768, 'outpaces': 1769, 'contemporaries': 1770, 'daring': 1771, 'verve': 1772, 'rip-roaring': 1773, 'fest': 1774, \"'ll\": 1775, 'put': 1776, 'hairs': 1777, 'chest': 1778, 'what-if': 1779, 'Miyazaki': 1780, 'cinema': 1781, 'wondrously': 1782, 'gifted': 1783, 'artists': 1784, 'storytellers': 1785, 'chronicle': 1786, 'quest': 1787, 'president': 1788, 'single-handedly': 1789, 'turned': 1790, 'plane': 1791, 'full': 1792, 'hard-bitten': 1793, 'cynical': 1794, 'journalists': 1795, 'essentially': 1796, 'campaign': 1797, 'extended': 1798, 'publicity': 1799, 'department': 1800, 'Provides': 1801, 'laugh': 1802, 'therapy': 1803, 'comedies': 1804, 'offbeat': 1805, 'happy': 1806, 'ending': 1807, 'strangely': 1808, 'hollow': 1809, 'core': 1810, 'commercialism': 1811, 'squeezed': 1812, 'idealism': 1813, 'moviemaking': 1814, 'Godfrey': 1815, 'Reggio': 1816, 'shines': 1817, 'lonely': 1818, 'beacon': 1819, 'Roger': 1820, 'Michell': 1821, 'cuss': 1822, 'severely': 1823, 'bungling': 1824, 'Robert': 1825, 'Harmon': 1826, 'less-is-more': 1827, 'bump-in': 1828, 'the-night': 1829, 'chills': 1830, 'greatest': 1831, 'keeping': 1832, 'creepy': 1833, 'crawlies': 1834, 'hidden': 1835, 'shadows': 1836, 'highest': 1837, 'awkwardness': 1838, 'human': 1839, 'generous': 1840, 'Feral': 1841, 'uncomfortable': 1842, 'Sillier': 1843, 'cuter': 1844, 'shorter': 1845, 'remember': 1846, 'enjoyable': 1847, 'expected': 1848, 'laughs': 1849, 'basic': 1850, 'comedic': 1851, 'constructs': 1852, 'Black-and-white': 1853, 'unrealistic': 1854, 'reassuring': 1855, 'manner': 1856, 'beautifully': 1857, 'sung': 1858, 'holiday': 1859, 'carol': 1860, 'camouflage': 1861, 'Carvey': 1862, 'now': 1863, 'considering': 1864, 'paper': 1865, 'bag': 1866, 'wear': 1867, 'public': 1868, 'recognized': 1869, 'bilked': 1870, 'unsuspecting': 1871, 'moviegoers': 1872, 'Not': 1873, 'scares': 1874, 'mood': 1875, 'ominous': 1876, 'pervasive': 1877, 'unknown': 1878, 'threat': 1879, 'lurks': 1880, 'below': 1881, 'proceedings': 1882, 'adds': 1883, 'constant': 1884, 'mindset': 1885, 'suspense': 1886, 'Some': 1887, 'computer': 1888, 'animation': 1889, 'handsome': 1890, 'various': 1891, 'sidekicks': 1892, 'add': 1893, 'much-needed': 1894, 'levity': 1895, 'bleak': 1896, 'overall': 1897, 'rises': 1898, 'mediocrity': 1899, 'Offers': 1900, 'rock': 1901, 'videos': 1902, 'fused': 1903, 'eerie': 1904, 'atmosphere': 1905, 'breezy': 1906, 'esoteric': 1907, 'musings': 1908, 'philosophy': 1909, 'Now': 1910, 'former': 1911, 'Gong': 1912, 'Show': 1913, 'addict': 1914, 'admit': 1915, 'my': 1916, 'complaint': 1917, 're-creations': 1918, 'Genuinely': 1919, 'unnerving': 1920, 'increasingly': 1921, 'diverse': 1922, 'describe': 1923, 'joyous': 1924, 'leaps': 1925, 'national': 1926, 'boundaries': 1927, 'celebrates': 1928, 'nature': 1929, 'worthy': 1930, 'bites': 1931, 'chew': 1932, 'linking': 1933, 'massacre': 1934, 'Armenians': 1935, '1915': 1936, 'present': 1937, 'Halfway': 1938, 'dwindles': 1939, 'Witty': 1940, 'surprising': 1941, 'morality': 1942, 'disguised': 1943, 'senses': 1944, 'World': 1945, 'Traveler': 1946, 'earlier': 1947, 'Freundlich': 1948, 'bears': 1949, 'grievous': 1950, 'obscure': 1951, 'fathers': 1952, 'circles': 1953, 'obsessively': 1954, 'contact': 1955, 'fact': 1956, 'preachy': 1957, 'touch': 1958, 'Woo': 1959, 'bullet': 1960, 'ballet': 1961, 'Proves': 1962, 'formulas': 1963, 'messing': 1964, 'big-bug': 1965, 'bogus': 1966, 'confident': 1967, 'pair': 1968, 'destination': 1969, 'special': 1970, 'walk': 1971, 'woods': 1972, 'Superbly': 1973, 'photographed': 1974, 'staged': 1975, 'Mendes': 1976, 'set': 1977, 'likes': 1978, 'mainstream': 1979, 'rarely': 1980, 'mesmerizing': 1981, 'poem': 1982, 'After': 1983, '10': 1984, 'seeing': 1985, 'sinks': 1986, 'abyss': 1987, 'alternative': 1988, 'become': 1989, 'apparent': 1990, 'franchise': 1991, 'long': 1992, 'past': 1993, 'Screenwriter': 1994, 'Chris': 1995, 'ver': 1996, 'Weil': 1997, 'directing': 1998, 'debut': 1999, 'good-natured': 2000, 'small': 2001, 'overshadowed': 2002, 'predictability': 2003, 'moves': 2004, 'away': 2005, 'Solondz': 2006, 'social': 2007, 'critique': 2008, 'casting': 2009, 'intellectual': 2010, 'lector': 2011, 'contemplation': 2012, 'auteur': 2013, 'professional': 2014, 'injuries': 2015, 'Ultimately': 2016, 'dedication': 2017, 'finding': 2018, 'husband': 2019, 'psychotic': 2020, 'convincing': 2021, 'broken': 2022, 'outweighs': 2023, 'loss': 2024, 'witness': 2025, 'flat': 2026, 'looks': 2027, 'fake': 2028, 'mildly': 2029, 'toothless': 2030, 'book': 2031, 'Festers': 2032, 'dungpile': 2033, 'swear': 2034, 'monkeys': 2035, 'flinging': 2036, 'feces': 2037, 'addition': 2038, 'overcooked': 2039, 'direction': 2040, 'reaching': 2041, 'row': 2042, 'sounds': 2043, 'horrible': 2044, 'vile': 2045, 'incoherent': 2046, 'scummy': 2047, 'ripoff': 2048, 'Cronenberg': 2049, 'Videodrome': 2050, 'First': 2051, 'kinda': 2052, 'dumb': 2053, 'sent': 2054, 'copyof': 2055, 'review': 2056, 'humbuggery': 2057, 'Is': 2058, 'Despite': 2059, 'Blade': 2060, 'II': 2061, 'arch': 2062, 'cold-blooded': 2063, 'thinly-conceived': 2064, 'flame-like': 2065, 'roiling': 2066, 'black-and-white': 2067, 'inspires': 2068, 'trembling': 2069, 'gratitude': 2070, 'Robinson': 2071, 'web': 2072, 'matches': 2073, 'page-turning': 2074, 'frenzy': 2075, 'Clancy': 2076, 'creates': 2077, 'Got': 2078, 'Lynch': 2079, 'jones': 2080, 'tentative': 2081, 'Time': 2082, 'Favor': 2083, 'given': 2084, 'day': 2085, 'concentrating': 2086, 'elements': 2087, 'revealing': 2088, 'alienation': 2089, 'among': 2090, 'sadly': 2091, 'hostile': 2092, 'odds': 2093, 'recklessness': 2094, 'retaliation': 2095, 'Austin': 2096, 'Powers': 2097, 'Goldmember': 2098, 'entertainment': 2099, 'sustain': 2100, 'interest': 2101, 'What': 2102, 'puzzles': 2103, 'emphasis': 2104, 'Britney': 2105, 'Spears': 2106, 'maintaining': 2107, 'appearance': 2108, 'clinical': 2109, 'objectivity': 2110, 'inspiring': 2111, 'Wiseman': 2112, 'warmest': 2113, 'doubt': 2114, 'asks': 2115, 'questions': 2116, 'country': 2117, 'dreary': 2118, 'Sadly': 2119, 'spark': 2120, 'appear': 2121, 'ca': 2122, 'generate': 2123, 'heat': 2124, 'cold': 2125, 'vacuum': 2126, 'reaction': 2127, 'To': 2128, 'Ivan': 2129, 'prince': 2130, 'fellow': 2131, 'shallow': 2132, 'glib': 2133, 'mean-spirited': 2134, 'responsible': 2135, 'particular': 2136, 'value': 2137, 'merit': 2138, 'Using': 2139, 'stock': 2140, 'Boy': 2141, 'injects': 2142, 'freshness': 2143, 'provide': 2144, '100': 2145, 'Beating': 2146, 'game': 2147, 'spoof': 2148, 'downplays': 2149, 'raunch': 2150, 'favor': 2151, 'gags': 2152, 'rely': 2153, 'strength': 2154, 'cleverness': 2155, 'opposed': 2156, 'extent': 2157, 'outrageousness': 2158, 'begins': 2159, 'conventional': 2160, 'evolves': 2161, 'gorgeously': 2162, 'atmospheric': 2163, 'meditation': 2164, 'life-changing': 2165, 'encounters': 2166, 'Buy': 2167, 'popcorn': 2168, 'late-night': 2169, 'cable': 2170, 'sexploitation': 2171, 'masquerading': 2172, 'ruthless': 2173, 'order': 2174, 'governs': 2175, 'college': 2176, 'cliques': 2177, 'effort': 2178, 'burdened': 2179, 'sensibilities': 2180, 'emerge': 2181, 'accessibility': 2182, 'Allen': 2183, 'piffle': 2184, 'Ending': 2185, 'saying': 2186, 'airhead': 2187, 'deserves': 2188, 'Seeing': 2189, 'momentum': 2190, 'position': 2191, 'remains': 2192, 'undeterminable': 2193, 'experiment': 2194, 'successful': 2195, 'Judith': 2196, 'Zaza': 2197, 'bedroom': 2198, 'intimate': 2199, 'sensual': 2200, 'psychologically': 2201, 'self-revealing': 2202, 'passes': 2203, 'hysterics': 2204, 'spotty': 2205, 'biting': 2206, 'irritating': 2207, 'soul-searching': 2208, 'garbage': 2209, 'price': 2210, 'ticket': 2211, 'clarity': 2212, 'matters': 2213, 'breaking': 2214, 'codes': 2215, 'comparison': 2216, 'disappointingly': 2217, 'thin': 2218, 'lower-class': 2219, 'London': 2220, 'mainly': 2221, 'South': 2222, 'Korean': 2223, 'undemanding': 2224, 'alacrity': 2225, 'counterparts': 2226, 'Except': 2227, 'heady': 2228, 'jumble': 2229, 'insane': 2230, 'undertaking': 2231, 'coheres': 2232, 'sane': 2233, 'breathtakingly': 2234, 'creative': 2235, 'joke': 2236, 'toilet': 2237, 'seat': 2238, 'substantive': 2239, 'structures': 2240, 'coming-of-age': 2241, 'concept': 2242, 'help': 2243, 'caught': 2244, 'appears': 2245, 'whom': 2246, 'logic': 2247, 'cohesion': 2248, 'foreign': 2249, 'ignore': 2250, 'concentrate': 2251, 'City': 2252, 'Sea': 2253, 'interpersonal': 2254, 'ai': 2255, 'half-bad': 2256, 'dreadful': 2257, 'passionate': 2258, 'somewhat': 2259, 'flawed': 2260, 'treatment': 2261, 'See': 2262, 'Smackdown': 2263, 'guilty': 2264, 'celebration': 2265, 'these': 2266, 'unfairly': 2267, 'dismissed': 2268, 'painfully': 2269, 'forced': 2270, 'false': 2271, 'fabricated': 2272, 'relative': 2273, 'letdown': 2274, 'Hey': 2275, 'Arnold': 2276, 'scratches': 2277, 'surface': 2278, 'provides': 2279, 'itch': 2280, 'explore': 2281, 'band': 2282, 'featured': 2283, 'Drumline': 2284, 'red': 2285, 'hot': 2286, 'mere': 2287, 'ice': 2288, 'non-mystery': 2289, 'mystery': 2290, 'Leigh': 2291, 'directors': 2292, 'soul': 2293, 'cast': 2294, 'sham': 2295, 'raw-nerved': 2296, 'monumental': 2297, 'practically': 2298, 'every': 2299, 'facet': 2300, 'joyless': 2301, 'idiotic': 2302, 'annoying': 2303, 'atrocious': 2304, 'highly-praised': 2305, 'disappointments': 2306, 'misfortune': 2307, 'watch': 2308, 'quite': 2309, 'Rock': 2310, 'stand-up': 2311, 'wanes': 2312, 'Roman': 2313, 'directs': 2314, 'surgeon': 2315, 'mends': 2316, 'meticulously': 2317, 'passion': 2318, 'Garth': 2319, 'progressed': 2320, 'nicely': 2321, 'Wayne': 2322, 'empathy': 2323, 'spare': 2324, 'waydowntown': 2325, 'acknowledges': 2326, 'silent': 2327, 'screams': 2328, 'workaday': 2329, 'inertia': 2330, 'stops': 2331, 'indulging': 2332, 'striving': 2333, 'solipsism': 2334, 'labours': 2335, 'Remember': 2336, 'thrilled': 2337, 'good-naturedness': 2338, 'Deeds': 2339, 'embrace': 2340, 'sheer': 2341, 'goofiness': 2342, 'cameos': 2343, 'than-likely': 2344, 'celebrities': 2345, 'certainly': 2346, 'raises': 2347, 'Sandler': 2348, 'attached': 2349, 'Fails': 2350, 'fundamentally': 2351, 'level': 2352, 'achieves': 2353, 'goofy': 2354, 'grandeur': 2355, 'ho-hum': 2356, 'affair': 2357, 'always': 2358, 'watchable': 2359, 'uniformly': 2360, 'acted': 2361, 'especially': 2362, 'Ballesta': 2363, 'Galan': 2364, 'first-time': 2365, 'writer\\\\/director': 2366, 'Achero': 2367, 'Manas': 2368, 'schematic': 2369, 'obvious': 2370, 'resurrect': 2371, 'dead': 2372, 'Hard': 2373, 'Copy': 2374, 'a-knocking': 2375, 'white': 2376, 'shores': 2377, 'wary': 2378, 'natives': 2379, 'true': 2380, 'abhorrent': 2381, 'simplistic': 2382, 'Heaven': 2383, 'likely': 2384, 'hell': 2385, 'Holly': 2386, 'Marina': 2387, 'survive': 2388, 'hothouse': 2389, 'teendom': 2390, 'longevity': 2391, 'inexplicable': 2392, 'characterizations': 2393, 'crassly': 2394, 'reductive': 2395, 'For': 2396, 'Hours': 2397, 'connect': 2398, 'neat': 2399, 'introduces': 2400, 'illuminate': 2401, 'mysteries': 2402, 'duty': 2403, 'Purports': 2404, 'winds': 2405, 'target': 2406, 'deeper': 2407, 'nine-tenths': 2408, 'Waterboy': 2409, 'motions': 2410, 'zip': 2411, 'gone': 2412, 'snazzy': 2413, 'establishes': 2414, 'realistic': 2415, 'involves': 2416, 'unfolding': 2417, 'ensures': 2418, 'investment': 2419, 'pays': 2420, 'automatically': 2421, 'bypass': 2422, 'hip-hop': 2423, 'Scratch': 2424, 'second': 2425, 'Bigelow': 2426, 'flashy': 2427, 'twists': 2428, 'turns': 2429, 'fortify': 2430, 'turgid': 2431, 'fable': 2432, 'unsophisticated': 2433, 'seriously': 2434, 'Stupid': 2435, 'infantile': 2436, 'redundant': 2437, 'sloppy': 2438, 'over-the-top': 2439, 'Resident': 2440, 'Evil': 2441, 'Carpenter': 2442, 'Ghosts': 2443, 'Mars': 2444, 'eliminating': 2445, 'beheadings': 2446, 'resolutely': 2447, 'avoids': 2448, 'possibilities': 2449, 'situation': 2450, 'prom': 2451, 'dates': 2452, 'destiny': 2453, 'master': 2454, 'storyteller': 2455, 'further': 2456, 'anyone': 2457, 'Hunger': 2458, 'Cat': 2459, 'People': 2460, 'tasty': 2461, 'lifts': 2462, 'cannibal': 2463, 'lust': 2464, 'ordinary': 2465, 'orientation': 2466, 'Once': 2467, 'expectation': 2468, 'laughter': 2469, 'quashed': 2470, 'obscenity': 2471, 'hand': 2472, 'funniest': 2473, 'How': 2474, 'depth': 2475, 'lacked': 2476, 'Translation': 2477, 'We': 2478, 'Frailty': 2479, 'campfire': 2480, 'telling': 2481, 'each': 2482, 'willies': 2483, 'front-loaded': 2484, 'shapely': 2485, 'two-hour': 2486, '1990': 2487, 'ambitious': 2488, 'Shiner': 2489, 'organizing': 2490, 'fight': 2491, 'pulls': 2492, 'effects': 2493, 'suck': 2494, 'flaws': 2495, 'beast': 2496, 'written': 2497, 'brutal': 2498, 'honesty': 2499, 'respect': 2500, 'Twenty': 2501, 'release': 2502, 'E.T.': 2503, 'wondrous': 2504, 'fantasies': 2505, 'apex': 2506, 'misunderstood': 2507, 'Gooding': 2508, 'desperately': 2509, 'ingratiating': 2510, 'stumbles': 2511, 'trick': 2512, 'outrage': 2513, 'easier': 2514, 'Nicely': 2515, 'combines': 2516, 'enigmatic': 2517, 'features': 2518, 'Memento': 2519, 'hallucinatory': 2520, 'drug': 2521, 'Requiem': 2522, 'Dream': 2523, 'individual': 2524, 'prism': 2525, 'beliefs': 2526, 'prejudices': 2527, 'take': 2528, 'peace': 2529, 'possible': 2530, 'flailing': 2531, 'terribly': 2532, 'ill-conceived': 2533, 'expensive': 2534, 'project': 2535, 'talented': 2536, 'thesps': 2537, 'slumming': 2538, 'Broder': 2539, 'offensive': 2540, 'pitifully': 2541, 'Leguizamo': 2542, 'excellent': 2543, 'superb': 2544, 'Trying': 2545, 'figure': 2546, 'rules': 2547, 'Country': 2548, 'Bear': 2549, 'universe': 2550, 'humans': 2551, 'hairier': 2552, 'tax': 2553, 'Einstein': 2554, 'brain': 2555, 'Feardotcom': 2556, 'makings': 2557, 'ethereal': 2558, 'internet': 2559, 'otherworldly': 2560, 'energies': 2561, 'channel': 2562, 'Delia': 2563, 'Greta': 2564, 'Paula': 2565, 'rank': 2566, 'three': 2567, 'multilayered': 2568, 'sympathetic': 2569, 'female': 2570, 'beauty': 2571, 'Alexander': 2572, 'Payne': 2573, 'ode': 2574, 'Everyman': 2575, 'town': 2576, 'authentic': 2577, 'stand': 2578, 'everybody': 2579, 'background': 2580, 'manufactured': 2581, 'artificial': 2582, 'Julie': 2583, 'Davis': 2584, 'Kathie': 2585, 'Gifford': 2586, 'proving': 2587, 'again': 2588, 'ego': 2589, 'talent': 2590, 'Much': 2591, 'credit': 2592, 'must': 2593, 'water-camera': 2594, 'operating': 2595, 'Don': 2596, 'King': 2597, 'Sonny': 2598, 'Miller': 2599, 'Michael': 2600, 'Stewart': 2601, 'Aussie': 2602, 'Caesar': 2603, 'channels': 2604, 'not-quite-dead': 2605, 'Guy': 2606, 'Ritchie': 2607, 'averse': 2608, 'am': 2609, 'feel-good': 2610, 'follow-your-dream': 2611, 'got': 2612, 'Maybe': 2613, 'formula': 2614, 'well-crafted': 2615, 'tuba-playing': 2616, 'dwarf': 2617, 'rolled': 2618, 'hill': 2619, 'trash': 2620, 'Loses': 2621, 'vat': 2622, 'failed': 2623, 'twitchy': 2624, 'general': 2625, 'boorishness': 2626, 'misty-eyed': 2627, 'Southern': 2628, 'nostalgia': 2629, 'piece': 2630, 'treading': 2631, 'line': 2632, 'between': 2633, 'sappy': 2634, 'mired': 2635, 'tear-drenched': 2636, 'quicksand': 2637, 'oblivious': 2638, 'existence': 2639, 'indeed': 2640, 'Belinsky': 2641, 'able': 2642, 'create': 2643, 'porn': 2644, 'snazziness': 2645, 'neglecting': 2646, 'conspicuous': 2647, 'writing': 2648, 'Notwithstanding': 2649, 'final': 2650, 'half': 2651, 'hour': 2652, 'SECRETARY': 2653, 'based': 2654, 'clinic': 2655, 'Spader': 2656, 'Gyllenhaal': 2657, 'unique': 2658, 'girl': 2659, 'slick': 2660, 'tick-tock': 2661, 'effect': 2662, 'yelling': 2663, 'hours': 2664, 'Barbershop': 2665, 'good-hearted': 2666, 'ensemble': 2667, 'variety': 2668, 'quirky': 2669, 'soulless': 2670, 'ineptly': 2671, 'assembled': 2672, 'pabulum': 2673, '95-minute': 2674, 'commercial': 2675, 'NBA': 2676, 'properties': 2677, 'manages': 2678, 'virtually': 2679, 'akin': 2680, 'act': 2681, 'Consistently': 2682, 'suspenseful': 2683, 'Soderbergh': 2684, 'skims': 2685, 'fat': 2686, '1972': 2687, 'Hilarious': 2688, 'musical': 2689, 'stymied': 2690, 'mud': 2691, 'Guys': 2692, 'criticism': 2693, 'considered': 2694, 'Anyone': 2695, 'suffers': 2696, 'box': 2697, 'consolation': 2698, 'candy': 2699, 'Bearable': 2700, 'Cremaster': 2701, '3': 2702, 'tough': 2703, 'pill': 2704, 'swallow': 2705, 'minor': 2706, 'miracle': 2707, 'self-expression': 2708, 'Kouyate': 2709, 'elicits': 2710, 'commentary': 2711, 'governments': 2712, 'matter': 2713, 'runs': 2714, 'asylum': 2715, 'gripping': 2716, 'Jia': 2717, 'family': 2718, 'walked': 2719, 'hoped': 2720, 'moist': 2721, 'Attal': 2722, 'pushes': 2723, 'television': 2724}\n"
     ]
    }
   ],
   "source": [
    "print(word_bag)"
   ]
  },
  {
   "cell_type": "code",
   "execution_count": null,
   "id": "efdeddc0",
   "metadata": {},
   "outputs": [],
   "source": []
  },
  {
   "cell_type": "code",
   "execution_count": 7,
   "id": "3510259b",
   "metadata": {},
   "outputs": [],
   "source": [
    "def bag_of_words(string):\n",
    "    result = np.zeros(len(word_bag))\n",
    "    for words in string.split():\n",
    "        result[word_bag[words]] = 1\n",
    "    return result"
   ]
  },
  {
   "cell_type": "code",
   "execution_count": null,
   "id": "3f862985",
   "metadata": {},
   "outputs": [],
   "source": []
  },
  {
   "cell_type": "code",
   "execution_count": 8,
   "id": "20b99778",
   "metadata": {},
   "outputs": [],
   "source": [
    "from sklearn.linear_model import LinearRegression\n",
    "from sklearn.model_selection import train_test_split"
   ]
  },
  {
   "cell_type": "code",
   "execution_count": 9,
   "id": "1b5a7b3a",
   "metadata": {},
   "outputs": [],
   "source": [
    "train, test = train_test_split(data,\n",
    "                                               shuffle=True,\n",
    "                                               random_state=42,\n",
    "                                               test_size=.2)\n",
    "    \n",
    "    "
   ]
  },
  {
   "cell_type": "code",
   "execution_count": 10,
   "id": "961881ee",
   "metadata": {},
   "outputs": [],
   "source": [
    "slr = LinearRegression()"
   ]
  },
  {
   "cell_type": "code",
   "execution_count": 13,
   "id": "1f4d0d94",
   "metadata": {},
   "outputs": [
    {
     "name": "stderr",
     "output_type": "stream",
     "text": [
      "/var/folders/3r/61m_sn_n37j_5sz8vf_q3ypc0000gn/T/ipykernel_14497/3487934783.py:6: PerformanceWarning: DataFrame is highly fragmented.  This is usually the result of calling `frame.insert` many times, which has poor performance.  Consider joining all columns at once using pd.concat(axis=1) instead.  To get a de-fragmented frame, use `newframe = frame.copy()`\n",
      "  train[str(i)]=train['bag'].map(lambda a: a[i])\n"
     ]
    }
   ],
   "source": [
    "train[\"bag\"] = train['Phrase'].map(lambda a: bag_of_words(a))\n",
    "\n",
    "train.head()\n",
    "\n",
    "for i in range(len(word_bag)):\n",
    "    train[str(i)]=train['bag'].map(lambda a: a[i])"
   ]
  },
  {
   "cell_type": "code",
   "execution_count": 14,
   "id": "c48205cc",
   "metadata": {},
   "outputs": [
    {
     "data": {
      "text/html": [
       "<div>\n",
       "<style scoped>\n",
       "    .dataframe tbody tr th:only-of-type {\n",
       "        vertical-align: middle;\n",
       "    }\n",
       "\n",
       "    .dataframe tbody tr th {\n",
       "        vertical-align: top;\n",
       "    }\n",
       "\n",
       "    .dataframe thead th {\n",
       "        text-align: right;\n",
       "    }\n",
       "</style>\n",
       "<table border=\"1\" class=\"dataframe\">\n",
       "  <thead>\n",
       "    <tr style=\"text-align: right;\">\n",
       "      <th></th>\n",
       "      <th>PhraseId</th>\n",
       "      <th>SentenceId</th>\n",
       "      <th>Phrase</th>\n",
       "      <th>Sentiment</th>\n",
       "      <th>5</th>\n",
       "      <th>bag</th>\n",
       "      <th>0</th>\n",
       "      <th>1</th>\n",
       "      <th>2</th>\n",
       "      <th>3</th>\n",
       "      <th>...</th>\n",
       "      <th>2715</th>\n",
       "      <th>2716</th>\n",
       "      <th>2717</th>\n",
       "      <th>2718</th>\n",
       "      <th>2719</th>\n",
       "      <th>2720</th>\n",
       "      <th>2721</th>\n",
       "      <th>2722</th>\n",
       "      <th>2723</th>\n",
       "      <th>2724</th>\n",
       "    </tr>\n",
       "  </thead>\n",
       "  <tbody>\n",
       "    <tr>\n",
       "      <th>9254</th>\n",
       "      <td>9255</td>\n",
       "      <td>386</td>\n",
       "      <td>would tax Einstein 's brain</td>\n",
       "      <td>1</td>\n",
       "      <td>0.0</td>\n",
       "      <td>[0.0, 0.0, 0.0, 0.0, 0.0, 0.0, 0.0, 0.0, 0.0, ...</td>\n",
       "      <td>0.0</td>\n",
       "      <td>0.0</td>\n",
       "      <td>0.0</td>\n",
       "      <td>0.0</td>\n",
       "      <td>...</td>\n",
       "      <td>0.0</td>\n",
       "      <td>0.0</td>\n",
       "      <td>0.0</td>\n",
       "      <td>0.0</td>\n",
       "      <td>0.0</td>\n",
       "      <td>0.0</td>\n",
       "      <td>0.0</td>\n",
       "      <td>0.0</td>\n",
       "      <td>0.0</td>\n",
       "      <td>0.0</td>\n",
       "    </tr>\n",
       "    <tr>\n",
       "      <th>1561</th>\n",
       "      <td>1562</td>\n",
       "      <td>58</td>\n",
       "      <td>spooky and</td>\n",
       "      <td>2</td>\n",
       "      <td>0.0</td>\n",
       "      <td>[0.0, 0.0, 0.0, 0.0, 0.0, 0.0, 0.0, 0.0, 0.0, ...</td>\n",
       "      <td>0.0</td>\n",
       "      <td>0.0</td>\n",
       "      <td>0.0</td>\n",
       "      <td>0.0</td>\n",
       "      <td>...</td>\n",
       "      <td>0.0</td>\n",
       "      <td>0.0</td>\n",
       "      <td>0.0</td>\n",
       "      <td>0.0</td>\n",
       "      <td>0.0</td>\n",
       "      <td>0.0</td>\n",
       "      <td>0.0</td>\n",
       "      <td>0.0</td>\n",
       "      <td>0.0</td>\n",
       "      <td>0.0</td>\n",
       "    </tr>\n",
       "    <tr>\n",
       "      <th>1670</th>\n",
       "      <td>1671</td>\n",
       "      <td>62</td>\n",
       "      <td>history</td>\n",
       "      <td>2</td>\n",
       "      <td>0.0</td>\n",
       "      <td>[0.0, 0.0, 0.0, 0.0, 0.0, 0.0, 0.0, 0.0, 0.0, ...</td>\n",
       "      <td>0.0</td>\n",
       "      <td>0.0</td>\n",
       "      <td>0.0</td>\n",
       "      <td>0.0</td>\n",
       "      <td>...</td>\n",
       "      <td>0.0</td>\n",
       "      <td>0.0</td>\n",
       "      <td>0.0</td>\n",
       "      <td>0.0</td>\n",
       "      <td>0.0</td>\n",
       "      <td>0.0</td>\n",
       "      <td>0.0</td>\n",
       "      <td>0.0</td>\n",
       "      <td>0.0</td>\n",
       "      <td>0.0</td>\n",
       "    </tr>\n",
       "    <tr>\n",
       "      <th>6087</th>\n",
       "      <td>6088</td>\n",
       "      <td>243</td>\n",
       "      <td>the life out</td>\n",
       "      <td>2</td>\n",
       "      <td>1.0</td>\n",
       "      <td>[0.0, 0.0, 0.0, 0.0, 0.0, 1.0, 0.0, 0.0, 0.0, ...</td>\n",
       "      <td>0.0</td>\n",
       "      <td>0.0</td>\n",
       "      <td>0.0</td>\n",
       "      <td>0.0</td>\n",
       "      <td>...</td>\n",
       "      <td>0.0</td>\n",
       "      <td>0.0</td>\n",
       "      <td>0.0</td>\n",
       "      <td>0.0</td>\n",
       "      <td>0.0</td>\n",
       "      <td>0.0</td>\n",
       "      <td>0.0</td>\n",
       "      <td>0.0</td>\n",
       "      <td>0.0</td>\n",
       "      <td>0.0</td>\n",
       "    </tr>\n",
       "    <tr>\n",
       "      <th>6669</th>\n",
       "      <td>6670</td>\n",
       "      <td>266</td>\n",
       "      <td>preachy</td>\n",
       "      <td>1</td>\n",
       "      <td>0.0</td>\n",
       "      <td>[0.0, 0.0, 0.0, 0.0, 0.0, 0.0, 0.0, 0.0, 0.0, ...</td>\n",
       "      <td>0.0</td>\n",
       "      <td>0.0</td>\n",
       "      <td>0.0</td>\n",
       "      <td>0.0</td>\n",
       "      <td>...</td>\n",
       "      <td>0.0</td>\n",
       "      <td>0.0</td>\n",
       "      <td>0.0</td>\n",
       "      <td>0.0</td>\n",
       "      <td>0.0</td>\n",
       "      <td>0.0</td>\n",
       "      <td>0.0</td>\n",
       "      <td>0.0</td>\n",
       "      <td>0.0</td>\n",
       "      <td>0.0</td>\n",
       "    </tr>\n",
       "  </tbody>\n",
       "</table>\n",
       "<p>5 rows × 2730 columns</p>\n",
       "</div>"
      ],
      "text/plain": [
       "      PhraseId  SentenceId                       Phrase  Sentiment    5  \\\n",
       "9254      9255         386  would tax Einstein 's brain          1  0.0   \n",
       "1561      1562          58                   spooky and          2  0.0   \n",
       "1670      1671          62                      history          2  0.0   \n",
       "6087      6088         243                 the life out          2  1.0   \n",
       "6669      6670         266                      preachy          1  0.0   \n",
       "\n",
       "                                                    bag    0    1    2    3  \\\n",
       "9254  [0.0, 0.0, 0.0, 0.0, 0.0, 0.0, 0.0, 0.0, 0.0, ...  0.0  0.0  0.0  0.0   \n",
       "1561  [0.0, 0.0, 0.0, 0.0, 0.0, 0.0, 0.0, 0.0, 0.0, ...  0.0  0.0  0.0  0.0   \n",
       "1670  [0.0, 0.0, 0.0, 0.0, 0.0, 0.0, 0.0, 0.0, 0.0, ...  0.0  0.0  0.0  0.0   \n",
       "6087  [0.0, 0.0, 0.0, 0.0, 0.0, 1.0, 0.0, 0.0, 0.0, ...  0.0  0.0  0.0  0.0   \n",
       "6669  [0.0, 0.0, 0.0, 0.0, 0.0, 0.0, 0.0, 0.0, 0.0, ...  0.0  0.0  0.0  0.0   \n",
       "\n",
       "      ...  2715  2716  2717  2718  2719  2720  2721  2722  2723  2724  \n",
       "9254  ...   0.0   0.0   0.0   0.0   0.0   0.0   0.0   0.0   0.0   0.0  \n",
       "1561  ...   0.0   0.0   0.0   0.0   0.0   0.0   0.0   0.0   0.0   0.0  \n",
       "1670  ...   0.0   0.0   0.0   0.0   0.0   0.0   0.0   0.0   0.0   0.0  \n",
       "6087  ...   0.0   0.0   0.0   0.0   0.0   0.0   0.0   0.0   0.0   0.0  \n",
       "6669  ...   0.0   0.0   0.0   0.0   0.0   0.0   0.0   0.0   0.0   0.0  \n",
       "\n",
       "[5 rows x 2730 columns]"
      ]
     },
     "execution_count": 14,
     "metadata": {},
     "output_type": "execute_result"
    }
   ],
   "source": [
    "train.head()"
   ]
  },
  {
   "cell_type": "code",
   "execution_count": 15,
   "id": "3fdb9eae",
   "metadata": {},
   "outputs": [
    {
     "name": "stdout",
     "output_type": "stream",
     "text": [
      "['0', '1', '2', '3', '4', '6', '7', '8', '9', '10', '11', '12', '13', '14', '15', '16', '17', '18', '19', '20', '21', '22', '23', '24', '25', '26', '27', '28', '29', '30', '31', '32', '33', '34', '35', '36', '37', '38', '39', '40', '41', '42', '43', '44', '45', '46', '47', '48', '49', '50', '51', '52', '53', '54', '55', '56', '57', '58', '59', '60', '61', '62', '63', '64', '65', '66', '67', '68', '69', '70', '71', '72', '73', '74', '75', '76', '77', '78', '79', '80', '81', '82', '83', '84', '85', '86', '87', '88', '89', '90', '91', '92', '93', '94', '95', '96', '97', '98', '99', '100', '101', '102', '103', '104', '105', '106', '107', '108', '109', '110', '111', '112', '113', '114', '115', '116', '117', '118', '119', '120', '121', '122', '123', '124', '125', '126', '127', '128', '129', '130', '131', '132', '133', '134', '135', '136', '137', '138', '139', '140', '141', '142', '143', '144', '145', '146', '147', '148', '149', '150', '151', '152', '153', '154', '155', '156', '157', '158', '159', '160', '161', '162', '163', '164', '165', '166', '167', '168', '169', '170', '171', '172', '173', '174', '175', '176', '177', '178', '179', '180', '181', '182', '183', '184', '185', '186', '187', '188', '189', '190', '191', '192', '193', '194', '195', '196', '197', '198', '199', '200', '201', '202', '203', '204', '205', '206', '207', '208', '209', '210', '211', '212', '213', '214', '215', '216', '217', '218', '219', '220', '221', '222', '223', '224', '225', '226', '227', '228', '229', '230', '231', '232', '233', '234', '235', '236', '237', '238', '239', '240', '241', '242', '243', '244', '245', '246', '247', '248', '249', '250', '251', '252', '253', '254', '255', '256', '257', '258', '259', '260', '261', '262', '263', '264', '265', '266', '267', '268', '269', '270', '271', '272', '273', '274', '275', '276', '277', '278', '279', '280', '281', '282', '283', '284', '285', '286', '287', '288', '289', '290', '291', '292', '293', '294', '295', '296', '297', '298', '299', '300', '301', '302', '303', '304', '305', '306', '307', '308', '309', '310', '311', '312', '313', '314', '315', '316', '317', '318', '319', '320', '321', '322', '323', '324', '325', '326', '327', '328', '329', '330', '331', '332', '333', '334', '335', '336', '337', '338', '339', '340', '341', '342', '343', '344', '345', '346', '347', '348', '349', '350', '351', '352', '353', '354', '355', '356', '357', '358', '359', '360', '361', '362', '363', '364', '365', '366', '367', '368', '369', '370', '371', '372', '373', '374', '375', '376', '377', '378', '379', '380', '381', '382', '383', '384', '385', '386', '387', '388', '389', '390', '391', '392', '393', '394', '395', '396', '397', '398', '399', '400', '401', '402', '403', '404', '405', '406', '407', '408', '409', '410', '411', '412', '413', '414', '415', '416', '417', '418', '419', '420', '421', '422', '423', '424', '425', '426', '427', '428', '429', '430', '431', '432', '433', '434', '435', '436', '437', '438', '439', '440', '441', '442', '443', '444', '445', '446', '447', '448', '449', '450', '451', '452', '453', '454', '455', '456', '457', '458', '459', '460', '461', '462', '463', '464', '465', '466', '467', '468', '469', '470', '471', '472', '473', '474', '475', '476', '477', '478', '479', '480', '481', '482', '483', '484', '485', '486', '487', '488', '489', '490', '491', '492', '493', '494', '495', '496', '497', '498', '499', '500', '501', '502', '503', '504', '505', '506', '507', '508', '509', '510', '511', '512', '513', '514', '515', '516', '517', '518', '519', '520', '521', '522', '523', '524', '525', '526', '527', '528', '529', '530', '531', '532', '533', '534', '535', '536', '537', '538', '539', '540', '541', '542', '543', '544', '545', '546', '547', '548', '549', '550', '551', '552', '553', '554', '555', '556', '557', '558', '559', '560', '561', '562', '563', '564', '565', '566', '567', '568', '569', '570', '571', '572', '573', '574', '575', '576', '577', '578', '579', '580', '581', '582', '583', '584', '585', '586', '587', '588', '589', '590', '591', '592', '593', '594', '595', '596', '597', '598', '599', '600', '601', '602', '603', '604', '605', '606', '607', '608', '609', '610', '611', '612', '613', '614', '615', '616', '617', '618', '619', '620', '621', '622', '623', '624', '625', '626', '627', '628', '629', '630', '631', '632', '633', '634', '635', '636', '637', '638', '639', '640', '641', '642', '643', '644', '645', '646', '647', '648', '649', '650', '651', '652', '653', '654', '655', '656', '657', '658', '659', '660', '661', '662', '663', '664', '665', '666', '667', '668', '669', '670', '671', '672', '673', '674', '675', '676', '677', '678', '679', '680', '681', '682', '683', '684', '685', '686', '687', '688', '689', '690', '691', '692', '693', '694', '695', '696', '697', '698', '699', '700', '701', '702', '703', '704', '705', '706', '707', '708', '709', '710', '711', '712', '713', '714', '715', '716', '717', '718', '719', '720', '721', '722', '723', '724', '725', '726', '727', '728', '729', '730', '731', '732', '733', '734', '735', '736', '737', '738', '739', '740', '741', '742', '743', '744', '745', '746', '747', '748', '749', '750', '751', '752', '753', '754', '755', '756', '757', '758', '759', '760', '761', '762', '763', '764', '765', '766', '767', '768', '769', '770', '771', '772', '773', '774', '775', '776', '777', '778', '779', '780', '781', '782', '783', '784', '785', '786', '787', '788', '789', '790', '791', '792', '793', '794', '795', '796', '797', '798', '799', '800', '801', '802', '803', '804', '805', '806', '807', '808', '809', '810', '811', '812', '813', '814', '815', '816', '817', '818', '819', '820', '821', '822', '823', '824', '825', '826', '827', '828', '829', '830', '831', '832', '833', '834', '835', '836', '837', '838', '839', '840', '841', '842', '843', '844', '845', '846', '847', '848', '849', '850', '851', '852', '853', '854', '855', '856', '857', '858', '859', '860', '861', '862', '863', '864', '865', '866', '867', '868', '869', '870', '871', '872', '873', '874', '875', '876', '877', '878', '879', '880', '881', '882', '883', '884', '885', '886', '887', '888', '889', '890', '891', '892', '893', '894', '895', '896', '897', '898', '899', '900', '901', '902', '903', '904', '905', '906', '907', '908', '909', '910', '911', '912', '913', '914', '915', '916', '917', '918', '919', '920', '921', '922', '923', '924', '925', '926', '927', '928', '929', '930', '931', '932', '933', '934', '935', '936', '937', '938', '939', '940', '941', '942', '943', '944', '945', '946', '947', '948', '949', '950', '951', '952', '953', '954', '955', '956', '957', '958', '959', '960', '961', '962', '963', '964', '965', '966', '967', '968', '969', '970', '971', '972', '973', '974', '975', '976', '977', '978', '979', '980', '981', '982', '983', '984', '985', '986', '987', '988', '989', '990', '991', '992', '993', '994', '995', '996', '997', '998', '999', '1000', '1001', '1002', '1003', '1004', '1005', '1006', '1007', '1008', '1009', '1010', '1011', '1012', '1013', '1014', '1015', '1016', '1017', '1018', '1019', '1020', '1021', '1022', '1023', '1024', '1025', '1026', '1027', '1028', '1029', '1030', '1031', '1032', '1033', '1034', '1035', '1036', '1037', '1038', '1039', '1040', '1041', '1042', '1043', '1044', '1045', '1046', '1047', '1048', '1049', '1050', '1051', '1052', '1053', '1054', '1055', '1056', '1057', '1058', '1059', '1060', '1061', '1062', '1063', '1064', '1065', '1066', '1067', '1068', '1069', '1070', '1071', '1072', '1073', '1074', '1075', '1076', '1077', '1078', '1079', '1080', '1081', '1082', '1083', '1084', '1085', '1086', '1087', '1088', '1089', '1090', '1091', '1092', '1093', '1094', '1095', '1096', '1097', '1098', '1099', '1100', '1101', '1102', '1103', '1104', '1105', '1106', '1107', '1108', '1109', '1110', '1111', '1112', '1113', '1114', '1115', '1116', '1117', '1118', '1119', '1120', '1121', '1122', '1123', '1124', '1125', '1126', '1127', '1128', '1129', '1130', '1131', '1132', '1133', '1134', '1135', '1136', '1137', '1138', '1139', '1140', '1141', '1142', '1143', '1144', '1145', '1146', '1147', '1148', '1149', '1150', '1151', '1152', '1153', '1154', '1155', '1156', '1157', '1158', '1159', '1160', '1161', '1162', '1163', '1164', '1165', '1166', '1167', '1168', '1169', '1170', '1171', '1172', '1173', '1174', '1175', '1176', '1177', '1178', '1179', '1180', '1181', '1182', '1183', '1184', '1185', '1186', '1187', '1188', '1189', '1190', '1191', '1192', '1193', '1194', '1195', '1196', '1197', '1198', '1199', '1200', '1201', '1202', '1203', '1204', '1205', '1206', '1207', '1208', '1209', '1210', '1211', '1212', '1213', '1214', '1215', '1216', '1217', '1218', '1219', '1220', '1221', '1222', '1223', '1224', '1225', '1226', '1227', '1228', '1229', '1230', '1231', '1232', '1233', '1234', '1235', '1236', '1237', '1238', '1239', '1240', '1241', '1242', '1243', '1244', '1245', '1246', '1247', '1248', '1249', '1250', '1251', '1252', '1253', '1254', '1255', '1256', '1257', '1258', '1259', '1260', '1261', '1262', '1263', '1264', '1265', '1266', '1267', '1268', '1269', '1270', '1271', '1272', '1273', '1274', '1275', '1276', '1277', '1278', '1279', '1280', '1281', '1282', '1283', '1284', '1285', '1286', '1287', '1288', '1289', '1290', '1291', '1292', '1293', '1294', '1295', '1296', '1297', '1298', '1299', '1300', '1301', '1302', '1303', '1304', '1305', '1306', '1307', '1308', '1309', '1310', '1311', '1312', '1313', '1314', '1315', '1316', '1317', '1318', '1319', '1320', '1321', '1322', '1323', '1324', '1325', '1326', '1327', '1328', '1329', '1330', '1331', '1332', '1333', '1334', '1335', '1336', '1337', '1338', '1339', '1340', '1341', '1342', '1343', '1344', '1345', '1346', '1347', '1348', '1349', '1350', '1351', '1352', '1353', '1354', '1355', '1356', '1357', '1358', '1359', '1360', '1361', '1362', '1363', '1364', '1365', '1366', '1367', '1368', '1369', '1370', '1371', '1372', '1373', '1374', '1375', '1376', '1377', '1378', '1379', '1380', '1381', '1382', '1383', '1384', '1385', '1386', '1387', '1388', '1389', '1390', '1391', '1392', '1393', '1394', '1395', '1396', '1397', '1398', '1399', '1400', '1401', '1402', '1403', '1404', '1405', '1406', '1407', '1408', '1409', '1410', '1411', '1412', '1413', '1414', '1415', '1416', '1417', '1418', '1419', '1420', '1421', '1422', '1423', '1424', '1425', '1426', '1427', '1428', '1429', '1430', '1431', '1432', '1433', '1434', '1435', '1436', '1437', '1438', '1439', '1440', '1441', '1442', '1443', '1444', '1445', '1446', '1447', '1448', '1449', '1450', '1451', '1452', '1453', '1454', '1455', '1456', '1457', '1458', '1459', '1460', '1461', '1462', '1463', '1464', '1465', '1466', '1467', '1468', '1469', '1470', '1471', '1472', '1473', '1474', '1475', '1476', '1477', '1478', '1479', '1480', '1481', '1482', '1483', '1484', '1485', '1486', '1487', '1488', '1489', '1490', '1491', '1492', '1493', '1494', '1495', '1496', '1497', '1498', '1499', '1500', '1501', '1502', '1503', '1504', '1505', '1506', '1507', '1508', '1509', '1510', '1511', '1512', '1513', '1514', '1515', '1516', '1517', '1518', '1519', '1520', '1521', '1522', '1523', '1524', '1525', '1526', '1527', '1528', '1529', '1530', '1531', '1532', '1533', '1534', '1535', '1536', '1537', '1538', '1539', '1540', '1541', '1542', '1543', '1544', '1545', '1546', '1547', '1548', '1549', '1550', '1551', '1552', '1553', '1554', '1555', '1556', '1557', '1558', '1559', '1560', '1561', '1562', '1563', '1564', '1565', '1566', '1567', '1568', '1569', '1570', '1571', '1572', '1573', '1574', '1575', '1576', '1577', '1578', '1579', '1580', '1581', '1582', '1583', '1584', '1585', '1586', '1587', '1588', '1589', '1590', '1591', '1592', '1593', '1594', '1595', '1596', '1597', '1598', '1599', '1600', '1601', '1602', '1603', '1604', '1605', '1606', '1607', '1608', '1609', '1610', '1611', '1612', '1613', '1614', '1615', '1616', '1617', '1618', '1619', '1620', '1621', '1622', '1623', '1624', '1625', '1626', '1627', '1628', '1629', '1630', '1631', '1632', '1633', '1634', '1635', '1636', '1637', '1638', '1639', '1640', '1641', '1642', '1643', '1644', '1645', '1646', '1647', '1648', '1649', '1650', '1651', '1652', '1653', '1654', '1655', '1656', '1657', '1658', '1659', '1660', '1661', '1662', '1663', '1664', '1665', '1666', '1667', '1668', '1669', '1670', '1671', '1672', '1673', '1674', '1675', '1676', '1677', '1678', '1679', '1680', '1681', '1682', '1683', '1684', '1685', '1686', '1687', '1688', '1689', '1690', '1691', '1692', '1693', '1694', '1695', '1696', '1697', '1698', '1699', '1700', '1701', '1702', '1703', '1704', '1705', '1706', '1707', '1708', '1709', '1710', '1711', '1712', '1713', '1714', '1715', '1716', '1717', '1718', '1719', '1720', '1721', '1722', '1723', '1724', '1725', '1726', '1727', '1728', '1729', '1730', '1731', '1732', '1733', '1734', '1735', '1736', '1737', '1738', '1739', '1740', '1741', '1742', '1743', '1744', '1745', '1746', '1747', '1748', '1749', '1750', '1751', '1752', '1753', '1754', '1755', '1756', '1757', '1758', '1759', '1760', '1761', '1762', '1763', '1764', '1765', '1766', '1767', '1768', '1769', '1770', '1771', '1772', '1773', '1774', '1775', '1776', '1777', '1778', '1779', '1780', '1781', '1782', '1783', '1784', '1785', '1786', '1787', '1788', '1789', '1790', '1791', '1792', '1793', '1794', '1795', '1796', '1797', '1798', '1799', '1800', '1801', '1802', '1803', '1804', '1805', '1806', '1807', '1808', '1809', '1810', '1811', '1812', '1813', '1814', '1815', '1816', '1817', '1818', '1819', '1820', '1821', '1822', '1823', '1824', '1825', '1826', '1827', '1828', '1829', '1830', '1831', '1832', '1833', '1834', '1835', '1836', '1837', '1838', '1839', '1840', '1841', '1842', '1843', '1844', '1845', '1846', '1847', '1848', '1849', '1850', '1851', '1852', '1853', '1854', '1855', '1856', '1857', '1858', '1859', '1860', '1861', '1862', '1863', '1864', '1865', '1866', '1867', '1868', '1869', '1870', '1871', '1872', '1873', '1874', '1875', '1876', '1877', '1878', '1879', '1880', '1881', '1882', '1883', '1884', '1885', '1886', '1887', '1888', '1889', '1890', '1891', '1892', '1893', '1894', '1895', '1896', '1897', '1898', '1899', '1900', '1901', '1902', '1903', '1904', '1905', '1906', '1907', '1908', '1909', '1910', '1911', '1912', '1913', '1914', '1915', '1916', '1917', '1918', '1919', '1920', '1921', '1922', '1923', '1924', '1925', '1926', '1927', '1928', '1929', '1930', '1931', '1932', '1933', '1934', '1935', '1936', '1937', '1938', '1939', '1940', '1941', '1942', '1943', '1944', '1945', '1946', '1947', '1948', '1949', '1950', '1951', '1952', '1953', '1954', '1955', '1956', '1957', '1958', '1959', '1960', '1961', '1962', '1963', '1964', '1965', '1966', '1967', '1968', '1969', '1970', '1971', '1972', '1973', '1974', '1975', '1976', '1977', '1978', '1979', '1980', '1981', '1982', '1983', '1984', '1985', '1986', '1987', '1988', '1989', '1990', '1991', '1992', '1993', '1994', '1995', '1996', '1997', '1998', '1999', '2000', '2001', '2002', '2003', '2004', '2005', '2006', '2007', '2008', '2009', '2010', '2011', '2012', '2013', '2014', '2015', '2016', '2017', '2018', '2019', '2020', '2021', '2022', '2023', '2024', '2025', '2026', '2027', '2028', '2029', '2030', '2031', '2032', '2033', '2034', '2035', '2036', '2037', '2038', '2039', '2040', '2041', '2042', '2043', '2044', '2045', '2046', '2047', '2048', '2049', '2050', '2051', '2052', '2053', '2054', '2055', '2056', '2057', '2058', '2059', '2060', '2061', '2062', '2063', '2064', '2065', '2066', '2067', '2068', '2069', '2070', '2071', '2072', '2073', '2074', '2075', '2076', '2077', '2078', '2079', '2080', '2081', '2082', '2083', '2084', '2085', '2086', '2087', '2088', '2089', '2090', '2091', '2092', '2093', '2094', '2095', '2096', '2097', '2098', '2099', '2100', '2101', '2102', '2103', '2104', '2105', '2106', '2107', '2108', '2109', '2110', '2111', '2112', '2113', '2114', '2115', '2116', '2117', '2118', '2119', '2120', '2121', '2122', '2123', '2124', '2125', '2126', '2127', '2128', '2129', '2130', '2131', '2132', '2133', '2134', '2135', '2136', '2137', '2138', '2139', '2140', '2141', '2142', '2143', '2144', '2145', '2146', '2147', '2148', '2149', '2150', '2151', '2152', '2153', '2154', '2155', '2156', '2157', '2158', '2159', '2160', '2161', '2162', '2163', '2164', '2165', '2166', '2167', '2168', '2169', '2170', '2171', '2172', '2173', '2174', '2175', '2176', '2177', '2178', '2179', '2180', '2181', '2182', '2183', '2184', '2185', '2186', '2187', '2188', '2189', '2190', '2191', '2192', '2193', '2194', '2195', '2196', '2197', '2198', '2199', '2200', '2201', '2202', '2203', '2204', '2205', '2206', '2207', '2208', '2209', '2210', '2211', '2212', '2213', '2214', '2215', '2216', '2217', '2218', '2219', '2220', '2221', '2222', '2223', '2224', '2225', '2226', '2227', '2228', '2229', '2230', '2231', '2232', '2233', '2234', '2235', '2236', '2237', '2238', '2239', '2240', '2241', '2242', '2243', '2244', '2245', '2246', '2247', '2248', '2249', '2250', '2251', '2252', '2253', '2254', '2255', '2256', '2257', '2258', '2259', '2260', '2261', '2262', '2263', '2264', '2265', '2266', '2267', '2268', '2269', '2270', '2271', '2272', '2273', '2274', '2275', '2276', '2277', '2278', '2279', '2280', '2281', '2282', '2283', '2284', '2285', '2286', '2287', '2288', '2289', '2290', '2291', '2292', '2293', '2294', '2295', '2296', '2297', '2298', '2299', '2300', '2301', '2302', '2303', '2304', '2305', '2306', '2307', '2308', '2309', '2310', '2311', '2312', '2313', '2314', '2315', '2316', '2317', '2318', '2319', '2320', '2321', '2322', '2323', '2324', '2325', '2326', '2327', '2328', '2329', '2330', '2331', '2332', '2333', '2334', '2335', '2336', '2337', '2338', '2339', '2340', '2341', '2342', '2343', '2344', '2345', '2346', '2347', '2348', '2349', '2350', '2351', '2352', '2353', '2354', '2355', '2356', '2357', '2358', '2359', '2360', '2361', '2362', '2363', '2364', '2365', '2366', '2367', '2368', '2369', '2370', '2371', '2372', '2373', '2374', '2375', '2376', '2377', '2378', '2379', '2380', '2381', '2382', '2383', '2384', '2385', '2386', '2387', '2388', '2389', '2390', '2391', '2392', '2393', '2394', '2395', '2396', '2397', '2398', '2399', '2400', '2401', '2402', '2403', '2404', '2405', '2406', '2407', '2408', '2409', '2410', '2411', '2412', '2413', '2414', '2415', '2416', '2417', '2418', '2419', '2420', '2421', '2422', '2423', '2424', '2425', '2426', '2427', '2428', '2429', '2430', '2431', '2432', '2433', '2434', '2435', '2436', '2437', '2438', '2439', '2440', '2441', '2442', '2443', '2444', '2445', '2446', '2447', '2448', '2449', '2450', '2451', '2452', '2453', '2454', '2455', '2456', '2457', '2458', '2459', '2460', '2461', '2462', '2463', '2464', '2465', '2466', '2467', '2468', '2469', '2470', '2471', '2472', '2473', '2474', '2475', '2476', '2477', '2478', '2479', '2480', '2481', '2482', '2483', '2484', '2485', '2486', '2487', '2488', '2489', '2490', '2491', '2492', '2493', '2494', '2495', '2496', '2497', '2498', '2499', '2500', '2501', '2502', '2503', '2504', '2505', '2506', '2507', '2508', '2509', '2510', '2511', '2512', '2513', '2514', '2515', '2516', '2517', '2518', '2519', '2520', '2521', '2522', '2523', '2524', '2525', '2526', '2527', '2528', '2529', '2530', '2531', '2532', '2533', '2534', '2535', '2536', '2537', '2538', '2539', '2540', '2541', '2542', '2543', '2544', '2545', '2546', '2547', '2548', '2549', '2550', '2551', '2552', '2553', '2554', '2555', '2556', '2557', '2558', '2559', '2560', '2561', '2562', '2563', '2564', '2565', '2566', '2567', '2568', '2569', '2570', '2571', '2572', '2573', '2574', '2575', '2576', '2577', '2578', '2579', '2580', '2581', '2582', '2583', '2584', '2585', '2586', '2587', '2588', '2589', '2590', '2591', '2592', '2593', '2594', '2595', '2596', '2597', '2598', '2599', '2600', '2601', '2602', '2603', '2604', '2605', '2606', '2607', '2608', '2609', '2610', '2611', '2612', '2613', '2614', '2615', '2616', '2617', '2618', '2619', '2620', '2621', '2622', '2623', '2624', '2625', '2626', '2627', '2628', '2629', '2630', '2631', '2632', '2633', '2634', '2635', '2636', '2637', '2638', '2639', '2640', '2641', '2642', '2643', '2644', '2645', '2646', '2647', '2648', '2649', '2650', '2651', '2652', '2653', '2654', '2655', '2656', '2657', '2658', '2659', '2660', '2661', '2662', '2663', '2664', '2665', '2666', '2667', '2668', '2669', '2670', '2671', '2672', '2673', '2674', '2675', '2676', '2677', '2678', '2679', '2680', '2681', '2682', '2683', '2684', '2685', '2686', '2687', '2688', '2689', '2690', '2691', '2692', '2693', '2694', '2695', '2696', '2697', '2698', '2699', '2700', '2701', '2702', '2703', '2704', '2705', '2706', '2707', '2708', '2709', '2710', '2711', '2712', '2713', '2714', '2715', '2716', '2717', '2718', '2719', '2720', '2721', '2722', '2723', '2724']\n"
     ]
    }
   ],
   "source": [
    "columns=train.columns[6:]\n",
    "print(list(columns))"
   ]
  },
  {
   "cell_type": "code",
   "execution_count": 16,
   "id": "c51848d4",
   "metadata": {},
   "outputs": [
    {
     "data": {
      "text/plain": [
       "LinearRegression()"
      ]
     },
     "execution_count": 16,
     "metadata": {},
     "output_type": "execute_result"
    }
   ],
   "source": [
    "slr.fit(train[list(columns)].values,train['Sentiment'].values.reshape(-1,1))"
   ]
  },
  {
   "cell_type": "code",
   "execution_count": 17,
   "id": "d1904fe2",
   "metadata": {},
   "outputs": [
    {
     "data": {
      "text/plain": [
       "array([2.0401366])"
      ]
     },
     "execution_count": 17,
     "metadata": {},
     "output_type": "execute_result"
    }
   ],
   "source": [
    "slr.intercept_"
   ]
  },
  {
   "cell_type": "code",
   "execution_count": 18,
   "id": "76b71f3f",
   "metadata": {},
   "outputs": [
    {
     "data": {
      "text/plain": [
       "array([[ 0.08689076, -0.02963834, -0.08963533, ..., -0.4648294 ,\n",
       "        -0.27351306,  0.46246747]])"
      ]
     },
     "execution_count": 18,
     "metadata": {},
     "output_type": "execute_result"
    }
   ],
   "source": [
    "slr.coef_"
   ]
  },
  {
   "cell_type": "code",
   "execution_count": 19,
   "id": "0136b070",
   "metadata": {},
   "outputs": [
    {
     "data": {
      "text/plain": [
       "1093"
      ]
     },
     "execution_count": 19,
     "metadata": {},
     "output_type": "execute_result"
    }
   ],
   "source": [
    "coef=np.asarray(slr.coef_)\n",
    "np.argmin(coef)"
   ]
  },
  {
   "cell_type": "code",
   "execution_count": 20,
   "id": "fa44f892",
   "metadata": {},
   "outputs": [
    {
     "data": {
      "text/plain": [
       "1094"
      ]
     },
     "execution_count": 20,
     "metadata": {},
     "output_type": "execute_result"
    }
   ],
   "source": [
    "np.argmax(coef.flatten())"
   ]
  },
  {
   "cell_type": "code",
   "execution_count": 22,
   "id": "11123fcd",
   "metadata": {},
   "outputs": [
    {
     "data": {
      "text/plain": [
       "1258187744844.9553"
      ]
     },
     "execution_count": 22,
     "metadata": {},
     "output_type": "execute_result"
    }
   ],
   "source": [
    "coef.flatten()[1094]"
   ]
  },
  {
   "cell_type": "code",
   "execution_count": null,
   "id": "219aa957",
   "metadata": {},
   "outputs": [],
   "source": []
  }
 ],
 "metadata": {
  "kernelspec": {
   "display_name": "Python 3 (ipykernel)",
   "language": "python",
   "name": "python3"
  },
  "language_info": {
   "codemirror_mode": {
    "name": "ipython",
    "version": 3
   },
   "file_extension": ".py",
   "mimetype": "text/x-python",
   "name": "python",
   "nbconvert_exporter": "python",
   "pygments_lexer": "ipython3",
   "version": "3.10.1"
  }
 },
 "nbformat": 4,
 "nbformat_minor": 5
}
